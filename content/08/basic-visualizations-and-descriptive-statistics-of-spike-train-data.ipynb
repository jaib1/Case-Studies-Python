{
 "cells": [
  {
   "cell_type": "markdown",
   "metadata": {},
   "source": [
    "<a id=\"top\"></a> \n",
    "\n",
    "# Basic Visualizations and Descriptive Statistics of Spike Train Data"
   ]
  },
  {
   "cell_type": "markdown",
   "metadata": {},
   "source": [
    "<div class=\"question\">\n",
    "    \n",
    "_**Synopsis**_ \n",
    "\n",
    "**Data:** Spontaneous spiking activity from a retinal neuron in culture, exposed to dark and light environments.\n",
    "\n",
    "\n",
    "**Goals:** Visualize, compute and interpret descriptive and inferential statistics on spike trains.\n",
    "\n",
    "\n",
    "**Tools:** firing rates, rastergrams, interspike interval (ISI) histograms, binned spike increments, fano factors (FF), autocorrelograms (AC), multiple comparisons corrections, analyses of variance (ANOVA), least significant differences (LSD), maximum likelihood estimations (MLE), Kolmogorov-Smirnov (KS) plots\n",
    "</div>"
   ]
  },
  {
   "cell_type": "markdown",
   "metadata": {},
   "source": [
    "* [Introduction](#Introduction)\n",
    "* [Data Analysis](#DataAnalysis)\n",
    "    1. [Spike Train Rastergrams](#Rasters)\n",
    "    2. [Interspike Intervals](#ISIs)\n",
    "    3. [Binned Spike Increments](#BSIs)\n",
    "    4. [Autocorrelations of the Increments](#ACs)\n",
    "    5. [Autocorrelations of the ISIs](#ACsOfISIs)\n",
    "* [Summary](#Summary)\n",
    "* [Appendix: Spike Count Mean and Variance for a Poisson Process](#Appendix)"
   ]
  },
  {
   "cell_type": "markdown",
   "metadata": {},
   "source": [
    "<a id=\"Introduction\"></a>\n",
    "## Introduction"
   ]
  },
  {
   "cell_type": "markdown",
   "metadata": {},
   "source": [
    "Neurons in the retina typically respond to patterns of light displayed over small sections of the visual field. However, when retinal neurons are grown in culture and held under constant light and environmental conditions, they will still spontaneously fire action potentials. In a fully functioning retina, this spontaneous activity is sometimes described as background firing activity, which is modulated as a function of visual stimuli. It is useful to understand the properties of this background activity in order to determine in future experiments how these firing properties are affected by specific stimuli."
   ]
  },
  {
   "cell_type": "markdown",
   "metadata": {},
   "source": [
    "### Case Study Data"
   ]
  },
  {
   "cell_type": "markdown",
   "metadata": {},
   "source": [
    "A researcher examining the background firing properties of a culture-grown retinal neuron contacts us to discuss his data. He runs two experiments in which he records the spiking activity in two different states: one with the room lights off (dark condition) and the other with the room lights on (light condition). He would like to collaborate with us to determine whether there is a difference in background firing between these two conditions, and whether one environment is more conducive to future experimental analyses. He records the spiking activity as spike timestamps for 30 seconds in each condition."
   ]
  },
  {
   "cell_type": "markdown",
   "metadata": {},
   "source": [
    "### Goals"
   ]
  },
  {
   "cell_type": "markdown",
   "metadata": {},
   "source": [
    "Typically the first step in any data analysis involves visualizing and using simple descriptive statistics to characterize pertinent features of the data. For time series data that takes on a value at each time point, like the field potentials analyzed in earlier chapters, we typically start by simply plotting each data value as a function of time. For spike train data, things can become a bit more complicated. One reason for this is that there are multiple equivalent ways to describe the same spike train data. The data could be stored as a sequence of spike times (rasters), as a sequence of waiting times between spikes (interspike intervals), or as the number of spikes in discrete time bins (binned spike increments). Knowing how to manipulate and visualize spike train data using all these different representations is the first step to understanding the structure presentin the data and is the primary goal of this chapter."
   ]
  },
  {
   "cell_type": "markdown",
   "metadata": {},
   "source": [
    "### Tools"
   ]
  },
  {
   "cell_type": "markdown",
   "metadata": {},
   "source": [
    "We develop tools in this chapter to visualize spike train data and to provide basic statistical methods appropriate for analyzing spike trains."
   ]
  },
  {
   "cell_type": "markdown",
   "metadata": {},
   "source": [
    "<a id=\"DataAnalysis\"></a>\n",
    "       \n",
    "## Data Analysis"
   ]
  },
  {
   "cell_type": "markdown",
   "metadata": {},
   "source": [
    "Our data analysis begins with loading and describing the data."
   ]
  },
  {
   "cell_type": "code",
   "execution_count": 1,
   "metadata": {},
   "outputs": [
    {
     "name": "stderr",
     "output_type": "stream",
     "text": [
      "C:\\Users\\Jai\\Anaconda3\\lib\\site-packages\\statsmodels\\tools\\_testing.py:19: FutureWarning: pandas.util.testing is deprecated. Use the functions in the public API at pandas.testing instead.\n",
      "  import pandas.util.testing as tm\n"
     ]
    }
   ],
   "source": [
    "## Set-up \n",
    "\n",
    "# Import required packages.\n",
    "import scipy\n",
    "import scipy.io as sio\n",
    "import scipy.stats as stats\n",
    "import numpy as np\n",
    "from statsmodels.stats.multitest import multipletests\n",
    "import matplotlib.pyplot as plt\n",
    "from matplotlib import rcParams\n",
    "%matplotlib inline\n",
    "\n",
    "# Set defaults for figure size, tight layout, and font size.\n",
    "rcParams['figure.figsize'] = (12,6)\n",
    "rcParams['figure.autolayout'] = True\n",
    "rcParams.update({'font.size': 14})"
   ]
  },
  {
   "cell_type": "markdown",
   "metadata": {},
   "source": [
    "<div class=\"question\">\n",
    "\n",
    "**Q.** How can we extract the variables of interest from `data`? \n",
    "    \n",
    "(*Hint*: The `sio.loadmat` function outputs a dict and the `keys` dict method returns the dict keys.)\n",
    "\n",
    "</div>"
   ]
  },
  {
   "cell_type": "code",
   "execution_count": 2,
   "metadata": {},
   "outputs": [
    {
     "data": {
      "text/plain": [
       "dict_keys(['__header__', '__version__', '__globals__', 'SpikesLow', 'SpikesHigh'])"
      ]
     },
     "execution_count": 2,
     "metadata": {},
     "output_type": "execute_result"
    }
   ],
   "source": [
    "## Load and print info on data\n",
    "\n",
    "data = sio.loadmat('CH8-spikes-1.mat')\n",
    "data.keys()"
   ]
  },
  {
   "cell_type": "markdown",
   "metadata": {},
   "source": [
    "There are two non-private keys in `data`:\n",
    "\n",
    "`SpikesLow`: spike times over 30 s in the dark condition.\n",
    "\n",
    "`SpikesHigh`: spike times over 30 s in the light condition."
   ]
  },
  {
   "cell_type": "markdown",
   "metadata": {},
   "source": [
    "<div class=\"question\">\n",
    "\n",
    "**Q.** How can we work with the data in the `SpikesLow` and `SpikesHigh` keys directly? \n",
    "\n",
    "Assign these keys to the variables `ts_dark` and `ts_light`. Ensure both of these variables are 1-d arrays.\n",
    "    \n",
    "</div>"
   ]
  },
  {
   "cell_type": "code",
   "execution_count": 3,
   "metadata": {},
   "outputs": [],
   "source": [
    "## Flatten a numpy array to 1-d\n",
    "\n",
    "ts_dark = data['SpikesLow'][0]  # this only works for 2-d arrays\n",
    "ts_light = data['SpikesHigh'].reshape(-1)"
   ]
  },
  {
   "cell_type": "markdown",
   "metadata": {},
   "source": [
    "Each variable is a single vector that gives a set of increasing spike times (aka timestamps, or 'ts') for the associated condition. The two vectors are of different sizes because the neuron fired a different number of spikes in each condition."
   ]
  },
  {
   "cell_type": "markdown",
   "metadata": {},
   "source": [
    "<div class=\"question\">\n",
    "    \n",
    "**Q.** How do `len`, `shape`, and `size` differ in returning information about ndarrays?\n",
    "\n",
    "</div>"
   ]
  },
  {
   "cell_type": "code",
   "execution_count": 4,
   "metadata": {},
   "outputs": [
    {
     "name": "stdout",
     "output_type": "stream",
     "text": [
      "750\n",
      "1\n",
      "(750,)\n",
      "(1, 750)\n",
      "750\n"
     ]
    },
    {
     "data": {
      "text/plain": [
       "True"
      ]
     },
     "execution_count": 4,
     "metadata": {},
     "output_type": "execute_result"
    }
   ],
   "source": [
    "## Use `len` `shape` and `size` on ndarrays\n",
    "\n",
    "# The standard library function `len`, returns an int of the length of the first dimension.\n",
    "print(len(ts_dark))\n",
    "# Consider what would have happened had we not flattened our vector first:\n",
    "print(len(data['SpikesLow']))\n",
    "\n",
    "# The `shape` attribute is a tuple of the number of elements in each dimension.\n",
    "print(ts_dark.shape)\n",
    "# Consider what would have happened had we not flattened our vector first:\n",
    "print(data['SpikesLow'].shape)\n",
    "\n",
    "# The `size` attribute is an int of the total number of elements in the array.\n",
    "print(ts_dark.size)\n",
    "ts_dark.size == data['SpikesLow'].size == 750"
   ]
  },
  {
   "cell_type": "markdown",
   "metadata": {},
   "source": [
    "<a id=\"Rasters\"></a>\n",
    "       \n",
    "### Spike Train Rastergrams"
   ]
  },
  {
   "cell_type": "markdown",
   "metadata": {},
   "source": [
    "Upon initial inspection of the data, we may be curious to see in which condition the firing rate for the neuron was higher. We can compute the firing rate ($f$), defined mathematically as\n",
    "\n",
    "$$\n",
    "f = \\frac{n}{T},\n",
    "\\tag{1}\n",
    "$$\n",
    "\n",
    "where $n$ is the number of spikes over the time interval $T$."
   ]
  },
  {
   "cell_type": "markdown",
   "metadata": {},
   "source": [
    "<div class=\"question\">\n",
    "    \n",
    "**Q.** How can we find the condition in which the neuron's firing rate was higher? \n",
    "    \n",
    "Compute the firing rate of the neuron in each condition, and compare.\n",
    "    \n",
    "(*Hints*: Using the formula for $f$ above, $n$ can be found by getting the `size` attribute for the timestamp vectors for each condition, and $T$ can be found by subtracting the timestamp of the first spike from the timestamp of the last spike, for each condition, respectively.)\n",
    "    \n",
    "</div>"
   ]
  },
  {
   "cell_type": "code",
   "execution_count": 5,
   "metadata": {},
   "outputs": [
    {
     "name": "stdout",
     "output_type": "stream",
     "text": [
      "f_dark = 25.04\n",
      "f_light = 32.35\n"
     ]
    }
   ],
   "source": [
    "## Compute firing rates for neuron across both conditions\n",
    "\n",
    "T_dark = ts_dark[-1] - ts_dark[0]\n",
    "T_light = ts_light[-1] - ts_light[0]\n",
    "n_dark = ts_dark.size\n",
    "f_dark = n_dark / T_dark\n",
    "n_light = ts_light.size\n",
    "f_light = n_light / T_light\n",
    "\n",
    "# Use `print(f'...')` to print formatted strings (round to 2 places past decimal).\n",
    "print(f'f_dark = {f_dark:.2f}')\n",
    "print(f'f_light = {f_light:.2f}')\n"
   ]
  },
  {
   "cell_type": "markdown",
   "metadata": {},
   "source": [
    "These calculations show us that the firing rate was higher in the light condition. Do the two datasets exhibit a statistically significant change in the firing structure between conditions? Or, does the difference in firing rates lie within the range of expected fluctuations between any two trials of random spiking data? To answer these types of questions, we need to develop statistical methods that are appropriate for analyzing spike trains. Let’s first look at the data more carefully and visualize the structure of the spiking in both conditions."
   ]
  },
  {
   "cell_type": "markdown",
   "metadata": {},
   "source": [
    "<div class=\"question\">\n",
    "\n",
    "**Q.** How can we visualize the data as a rastergram? \n",
    "    \n",
    "Plot the spike times for the dark condition vs. a vector of zeros, and the spike times for the light condition vs. a vector of ones, on the same axes. Apply appropriate labels to the axes.\n",
    "    \n",
    "(*Hints*: Use `np.zeros` or `np.zeros_like` and `np.ones` or `np.ones_like` to create a vector of zeros and ones. Create a figure and axes using `plt.subplots`. Use the axes `plot` method to plot the timestamps vs. the vectors of zeros or ones. Set the `marker` and `linestyle` keyword input arguments to `plot` to appropriately visualize the raster as dots.) \n",
    "\n",
    "</div>"
   ]
  },
  {
   "cell_type": "code",
   "execution_count": 6,
   "metadata": {},
   "outputs": [
    {
     "data": {
      "text/plain": [
       "Text(0.5, 1.0, 'Spike Rasters for Same Neuron Across Light Conditions')"
      ]
     },
     "execution_count": 6,
     "metadata": {},
     "output_type": "execute_result"
    },
    {
     "data": {
      "image/png": "[encoded data removed]",
      "text/plain": [
       "<Figure size 864x432 with 1 Axes>"
      ]
     },
     "metadata": {
      "needs_background": "light"
     },
     "output_type": "display_data"
    }
   ],
   "source": [
    "## Plot rastergrams of spike trains for both conditions\n",
    "\n",
    "# Create a figure.\n",
    "fig1, ax1 = plt.subplots()\n",
    "# Plot timestamps vs. zeros for dark condition (*Note, it is good practice to set\n",
    "# optional input args via keywords, like with `marker='.'` and `linestyle=''` below).\n",
    "ax1.plot(ts_dark, np.zeros_like(ts_dark), marker='.', linestyle='')\n",
    "# Plot timestamps vs. ones for light condition.\n",
    "ax1.plot(ts_light, np.ones_like(ts_light), marker='.', linestyle='')\n",
    "ax1.set_xlabel('Time (s)')\n",
    "# Zoom out on y axis and hide y ticks.\n",
    "ax1.set_ylim([-1, 2])\n",
    "ax1.set_yticks([])\n",
    "# Add legend and title.\n",
    "ax1.legend(['Dark Condition', 'Light Condition'])\n",
    "ax1.set_title('Spike Rasters for Same Neuron Across Light Conditions')"
   ]
  },
  {
   "cell_type": "markdown",
   "metadata": {},
   "source": [
    "With the data visualized in this way, we’re now able to ask an interesting question: What structure do we notice in the two spike trains? At first glance, our answer might be “not much.” Spikes occur fairly regularly throughout the 30 s interval under both conditions. At this scale, it may even look like there are more spikes in the dark than in the light condition, even though we know the opposite is true.\n",
    "\n",
    "The spike times themselves do not seem to be directly comparable between these conditions. Often, when we examine data from a stimulus response experiment, we expect to see regions where spiking activity increases or decreases as a function of a *changing* stimulus. In this case, the stimulus (the ambient light level) remains constant over both experiments, respectively. How else can we analyze these data and identify differences in the spiking activity (if any) between the two conditions?\n",
    "\n",
    "So far, we have examined the long-term structure of the spiking. Let’s now focus on a shorter-term structure that occurs within a single second or less."
   ]
  },
  {
   "cell_type": "code",
   "execution_count": 7,
   "metadata": {},
   "outputs": [
    {
     "data": {
      "text/plain": [
       "<matplotlib.legend.Legend at 0x2302f62ea20>"
      ]
     },
     "execution_count": 7,
     "metadata": {},
     "output_type": "execute_result"
    },
    {
     "data": {
      "image/png": "[encoded data removed]",
      "text/plain": [
       "<Figure size 864x432 with 1 Axes>"
      ]
     },
     "metadata": {
      "needs_background": "light"
     },
     "output_type": "display_data"
    }
   ],
   "source": [
    "## Plot rasters to show one second of data for both conditions from T = 10-11 s\n",
    "\n",
    "fig2, ax2 = plt.subplots()\n",
    "# Plot rasters and add a label for each raster.\n",
    "raster_dark = ax2.plot(ts_dark, np.zeros_like(ts_dark), \n",
    "                       marker='.', linestyle='', label='Dark Condition')\n",
    "raster_light = ax2.plot(ts_light, np.ones_like(ts_light), \n",
    "                        marker='.', linestyle='', label='Light Condition')\n",
    "# Set axes and axes labels for dark and light conditions.\n",
    "ax2.set_xlim([10, 11])              \n",
    "ax2.set_ylim([-1, 2])\n",
    "ax2.set_yticks([])\n",
    "ax2.set_xlabel('Time (s)')\n",
    "# Since we set labels for our plots, we can call the `legend` method without\n",
    "# specifying the input args, and it will use the labels for the rasters.\n",
    "ax2.legend()"
   ]
  },
  {
   "cell_type": "markdown",
   "metadata": {},
   "source": [
    "The code above was essentially copied and pasted from the previous section with a couple minor updates to change the time interval and the way we create the legend. It is generally poor practice to repeat a lot of similar calculations in such a manner; if we needed to do so, we should create a function instead."
   ]
  },
  {
   "cell_type": "markdown",
   "metadata": {},
   "source": [
    "<div class=\"question\">\n",
    "\n",
    "**Q.**: How can we visualize spike train rasters for different conditions and different time ranges without continuously copying and pasting code? \n",
    "    \n",
    "Create a function, `plot_rasters`, that takes 2 inputs: an ndarray matrix of spikes, `spks` (where each row is a different spike train and each column represents a spike timestamp (in s)), and a time range, `t` (a vector of 2 numbers: the start and end of the range (in s)). `plot_rasters` should create a figure which displays a raster for each spike train in `spks` on the same axes, with each spike train offset on the y axis. `plot_rasters` should return 3 outputs: the figure, `fig`, axes, `ax`, and rasters, `rasters`, which the function creates. \n",
    "    \n",
    "(*Hints*: Most of the code above in this section can be slightly adjusted to be used in the function body. Use a comprehension to generate a raster for each spike train.)\n",
    "\n",
    "</div>"
   ]
  },
  {
   "cell_type": "code",
   "execution_count": 8,
   "metadata": {},
   "outputs": [],
   "source": [
    "def plot_rasters(spks, t):\n",
    "    \"\"\"\n",
    "    Plots rasters for each row of spike trains in `spks` within the time interval `t`.\n",
    "    \n",
    "    Parameters:\n",
    "    -----------\n",
    "        spks (ndarray): a 2-d matrix of spike train timestamp vectors (# of spike trains X \n",
    "                        # of timestamps) (in s)\n",
    "        t (ndarray | list | tuple): two numbers specifying a time range (in s)\n",
    "    \n",
    "    Returns:\n",
    "    --------\n",
    "        fig(figure): a handle to the figure that holds the created rasters\n",
    "        ax(axes): a handle to the plot that holds the created rasters\n",
    "        rasters(lines): a handle to the rasters plotted on `ax`\n",
    "    \"\"\"\n",
    "    \n",
    "    # Get the number of spike trains.\n",
    "    n_trains = len(spks)\n",
    "    # Create the figure.\n",
    "    fig, ax = plt.subplots()\n",
    "    # Plot the spike trains using a comprehension.\n",
    "    rasters = [ax.plot(spks[train], np.zeros_like(spks[train])+train, marker='.', linestyle='') \\\n",
    "               for train in range(0,n_trains)]\n",
    "    # Set xlim according to `t` and label x axis.\n",
    "    ax.set_xlim([t[0], t[1]])\n",
    "    ax.set_xlabel('Time (s)')\n",
    "    # Zoom out an y axis and hide y ticks.\n",
    "    ax.set_ylim([-1, n_trains+1])\n",
    "    ax.set_yticks([])\n",
    "    return fig, ax, rasters"
   ]
  },
  {
   "cell_type": "markdown",
   "metadata": {},
   "source": [
    "<div class=\"question\">\n",
    "\n",
    "**Q:** How can we use and test `plot_rasters`? \n",
    "    \n",
    "Use `plot_rasters` to create a similar figure to the one above: show the spike times for both conditions in the interval from 10-11 s. Create a test to show that, for both conditions in the above interval, the number of datapoints in the plots for both rasters is equal to the number of datapoints in the spike times vectors.\n",
    "\n",
    "(*Hints:* Pad `ts_dark` with nans so the new vector has length equal to `ts_light`, and then vertically concatenate the two vectors into a single ndarray (see `np.pad`, `np.nan`, and `np.vstack`) to feed into `plot_rasters`. Use `assert` to create the test: use the `get_ydata` method on the returned rasters output to get the plotted points, and `size` to get the number of datapoints from both the rasterplots and spike times vectors.) \n",
    "    \n",
    "</div>"
   ]
  },
  {
   "cell_type": "code",
   "execution_count": 9,
   "metadata": {},
   "outputs": [
    {
     "data": {
      "image/png": "[encoded data removed]",
      "text/plain": [
       "<Figure size 864x432 with 1 Axes>"
      ]
     },
     "metadata": {
      "needs_background": "light"
     },
     "output_type": "display_data"
    }
   ],
   "source": [
    "## Use `plot_rasters` to generate rasters for both conditions for the interval 10-11s,\n",
    "## and create an appropriate test for the function\n",
    "\n",
    "# Pad the `ts_dark` vector with nans to match lengths with `ts_light`.\n",
    "ts_dark_padded = np.pad(ts_dark, pad_width = (0, (len(ts_light)-len(ts_dark))), \\\n",
    "                        mode = 'constant', constant_values = np.NaN)\n",
    "\n",
    "# Concatenate vectors vertically.\n",
    "# (We have to use double parentheses because `np.vstack` only takes a single ndarray-like\n",
    "# argument, so first we combine 'ts_dark_padded' and `ts_light` into a tuple - we could have\n",
    "# also combined them into a list. This is a common theme for many numpy operations on ndarrays.)\n",
    "spks = np.vstack((ts_dark_padded, ts_light))\n",
    "\n",
    "# Run function:\n",
    "\n",
    "t = [10,11] # set time interval\n",
    "fig, ax, rasters = plot_rasters(spks,t)\n",
    "\n",
    "# Run test:\n",
    "\n",
    "# Get individual rasters for dark and light conditions.\n",
    "r_dark = rasters[0][0]\n",
    "r_light = rasters[1][0]\n",
    "# `assert` that the number of points plotted matches the number of timestamps for each condition.\n",
    "assert r_light.get_ydata().size == ts_light.size and r_dark.get_ydata().size == ts_light.size\n",
    "\n",
    "# Note that `r_dark.get_ydata().size == ts_light.size` because we ran the function \n",
    "# on `ts_dark_padded`, not `ts_dark`."
   ]
  },
  {
   "cell_type": "markdown",
   "metadata": {},
   "source": [
    "<div class=\"question\">\n",
    "\n",
    "**Q:** How can we create a function that behaves the same as `plot_rasters`, but takes in an arbitrary number of input arguments, where these arguments are vectors of spike times (in s) for spike trains which could be of different sizes (instead of the single spike train matrix required by `plot_rasters`)?\n",
    "    \n",
    "Create a function, `plot_rasters2`, that takes as inputs an arbitrary number of individual spike train vectors (e.g. `[train1, train2,...trainN]`), and a time range, `t`, equivalent to `t` in `plot_rasters`. `plot_rasters2` should return the same outputs as `plot_rasters`. \n",
    "\n",
    "(*Hints:* we can use `plot_rasters` as a template and replace the `spks` input arg with `*args` as an input arg to gather the arbitrary number of individual spike train vectors. Note, when using `*args` to gather an arbitrary number of input args, `*args` must come last in the function definition.)\n",
    "    \n",
    "</div>"
   ]
  },
  {
   "cell_type": "code",
   "execution_count": 10,
   "metadata": {},
   "outputs": [],
   "source": [
    "def plot_rasters2(t, *args):\n",
    "    \"\"\" \n",
    "    Plots rasters for each spike train timestamp vector in `*args*` within the time interval `t`\n",
    "    \n",
    "    Parameters:\n",
    "    -----------\n",
    "        *args (ndarray | list | tuple): spike train timestamp vectors (in s) with \n",
    "                                        length == # of timestamps \n",
    "        t (ndarray | list | tuple): two numbers specifying a time range (in s)\n",
    "    \n",
    "    Returns:\n",
    "    --------\n",
    "        fig(figure): a handle to the figure that holds the created rasters\n",
    "        ax(axes): a handle to the plot that holds the created rasters\n",
    "        rasters(lines): a handle to the rasters plotted on `ax`\n",
    "    \"\"\"\n",
    "    \n",
    "    # Create the figure.\n",
    "    fig, ax = plt.subplots()\n",
    "    # Plot the spike trains using a comprehension.\n",
    "    rasters = [ax.plot(args[a], np.zeros_like(args[a])+a, marker='.', linestyle='') \\\n",
    "               for a in range(0, len(args))]\n",
    "    # Set xlim according to `t` and label x axis.\n",
    "    ax.set_xlim([t[0], t[1]])\n",
    "    ax.set_xlabel('Time (s)')\n",
    "    # Zoom out an y axis and hide y ticks.\n",
    "    ax.set_ylim([-1, len(args)+1])\n",
    "    ax.set_yticks([])\n",
    "    return fig, ax, rasters"
   ]
  },
  {
   "cell_type": "markdown",
   "metadata": {},
   "source": [
    "<div class=\"question\">\n",
    "\n",
    "**Q:** How can we test and use `plot_rasters2`? \n",
    "    \n",
    "Use `plot_rasters2` to create an identical copy of the figure we created via `plot_rasters`: show the spike times for both conditions in the interval from 10-11 s. Create a test for `plot_rasters2` that has the same expected behavior as the test created for `plot_rasters`: show that, for both conditions in the above interval, the number of datapoints in the plots for both rasters is equal to the number of datapoints in the spike times vectors.\n",
    "    \n",
    "</div>"
   ]
  },
  {
   "cell_type": "code",
   "execution_count": 11,
   "metadata": {},
   "outputs": [
    {
     "data": {
      "image/png": "[encoded data removed]",
      "text/plain": [
       "<Figure size 864x432 with 1 Axes>"
      ]
     },
     "metadata": {
      "needs_background": "light"
     },
     "output_type": "display_data"
    }
   ],
   "source": [
    "## Use `plot_rasters2` to generate rasters for both conditions for the interval 10-11s,\n",
    "## and create an appropriate test for the function\n",
    "\n",
    "# Run function:\n",
    "\n",
    "t = [10,11]\n",
    "fig, ax, rasters = plot_rasters2(t, ts_dark, ts_light)\n",
    "\n",
    "# Run test:\n",
    "\n",
    "# Get individual rasters for dark and light conditions.\n",
    "r_dark = rasters[0][0]\n",
    "r_light = rasters[1][0]\n",
    "\n",
    "# `assert` that the number of points plotted matches the number of timestamps for each condition.\n",
    "assert r_light.get_ydata().size == ts_light.size and r_dark.get_ydata().size == ts_dark.size\n",
    "\n",
    "# Note that now `r_dark.get_ydata().size == ts_dark.size` (as opposed to the case in \n",
    "# `plot_rasters`) because we didn't have to pad `ts_dark` for `plot_rasters2`."
   ]
  },
  {
   "cell_type": "markdown",
   "metadata": {},
   "source": [
    "Inspecting smaller time intervals, we might notice bursts of spikes that cluster near each other in time, interspersed with longer periods that contain less spiking. These patterns of bursts and quiescence look different between the dark and light conditions. Visual inspection is an important tool, but we would like a quantitative result. How might we compare this fine temporal structure in the two conditions?"
   ]
  },
  {
   "cell_type": "markdown",
   "metadata": {},
   "source": [
    "[Back to top](#top)"
   ]
  },
  {
   "cell_type": "markdown",
   "metadata": {},
   "source": [
    "<a id=\"ISIs\"></a>\n",
    "### Interspike Intervals"
   ]
  },
  {
   "cell_type": "markdown",
   "metadata": {},
   "source": [
    "One approach to further characterize the differences in spiking between the two conditions is to transform the data. One of the most useful transformations focuses on the waiting times between the spikes, or interspike intervals (ISIs), instead of the spike times themselves. "
   ]
  },
  {
   "cell_type": "markdown",
   "metadata": {},
   "source": [
    "<div class=\"question\">\n",
    "\n",
    "**Q:** What is another way in which we could compare the spike trains across the two conditions? \n",
    "    \n",
    "Compute the ISIs, and for a first visualization, simply plot the ISI vectors for both conditions. Create a 1x2 subplot, where `isi_dark` is plotted on the left subplot in blue, and `isi_light` is plotted on the right subplot in red. Share the x and y axes for both figures, and set the axes ylim to be the maximum ISI time for either condition. Appropriately label both subplots.\n",
    "\n",
    "(*Hints*: Use `np.diff` to compute the ISIs. Use `plt.subplots` to create and set the subplots. `plt.subplots` should take 4 inputs: the keyword arguments `nrows`, `ncols`, `sharex`, and `sharey`. Use `np.max` to set the axes ylim. `np.max` should take 1 input :the concatenated array (see `np.hstack`) of `isi_light` and `isi_dark` to get the max y value. Use the axes `plot` method to create one plot for each axes. `plot` should take 2 inputs: an ISI vector and the keyword argument `color`.)\n",
    "\n",
    "</div>"
   ]
  },
  {
   "cell_type": "code",
   "execution_count": 12,
   "metadata": {},
   "outputs": [
    {
     "data": {
      "text/plain": [
       "Text(0.5, 1.0, 'ISIs Light Condition')"
      ]
     },
     "execution_count": 12,
     "metadata": {},
     "output_type": "execute_result"
    },
    {
     "data": {
      "image/png": "[encoded data removed]",
      "text/plain": [
       "<Figure size 864x432 with 2 Axes>"
      ]
     },
     "metadata": {
      "needs_background": "light"
     },
     "output_type": "display_data"
    }
   ],
   "source": [
    "## Compute and plot the ISIs for the dark and light conditions\n",
    "\n",
    "# Compute ISIs.\n",
    "isi_dark = np.diff(ts_dark)    \n",
    "isi_light = np.diff(ts_light)  \n",
    "\n",
    "# Create 2 subplots with shared axes.\n",
    "fig3, ax3 = plt.subplots(nrows=1, ncols=2, sharex=True, sharey=True)\n",
    "# Plot the ISIs and label the axes.\n",
    "ax3[0].plot(isi_dark, color='b')\n",
    "ax3[1].plot(isi_light, color='r')\n",
    "ax3[0].set_xlabel('ISI Number')\n",
    "ax3[0].set_ylabel('Time (s)')\n",
    "# Set `ylim` as max ISI for either condition.\n",
    "ylim = np.max(np.hstack((isi_dark, isi_light)))\n",
    "# Increase the yticks to show every 0.05s from 0-`ylim+0.05`.\n",
    "ax3[1].set_yticks(np.arange(0,ylim+0.05,0.05))\n",
    "# Set the axes ylim from 0-`ylim+0.05`.\n",
    "ax3[1].set_ylim([0, ax3[1].get_yticks()[-1]])\n",
    "# Set titles.\n",
    "ax3[0].set_title('ISIs Dark Condition')\n",
    "ax3[1].set_title('ISIs Light Condition')"
   ]
  },
  {
   "cell_type": "markdown",
   "metadata": {},
   "source": [
    "We see that the ISI values range from small times (less than 0.05 s) to large times (over 0.65 s). In this way, the visualization provides some insight into how the ISI values differ across the conditions.\n",
    "\n",
    "Plots of the ISI vectors provide some information about the data (e.g., the approximate range of the ISI values), but there’s more insight to be gained."
   ]
  },
  {
   "cell_type": "markdown",
   "metadata": {},
   "source": [
    "<div class=\"question\">\n",
    "\n",
    "**Q:** How can we visualize the ISIs in another way? \n",
    "    \n",
    "Plot histograms for both sets of ISIs, again using 2 subplots with the color and axes scheme we used above. Use 1 ms bins from 0-100 ms. Appropriately label both subplots.\n",
    "\n",
    "(*Hints*: Use `np.arange` to set the bins (in ms). Use the axes `hist` method that takes as inputs the ISI vectors (converted to ms) and the vector of bins to create one histogram for each axes.)\n",
    "    \n",
    "</div>"
   ]
  },
  {
   "cell_type": "code",
   "execution_count": 13,
   "metadata": {},
   "outputs": [
    {
     "data": {
      "text/plain": [
       "Text(0.5, 1.0, 'ISIs Light Condition')"
      ]
     },
     "execution_count": 13,
     "metadata": {},
     "output_type": "execute_result"
    },
    {
     "data": {
      "image/png": "[encoded data removed]",
      "text/plain": [
       "<Figure size 864x432 with 2 Axes>"
      ]
     },
     "metadata": {
      "needs_background": "light"
     },
     "output_type": "display_data"
    }
   ],
   "source": [
    "## Plot the ISI histograms for both conditions\n",
    "\n",
    "# Create 2 subplots with shared axes and increase the figure size.\n",
    "fig4, ax4 = plt.subplots(nrows=1, ncols=2, sharex=True, sharey=True, figsize=(12,6))\n",
    "# Set the bins in ms.\n",
    "bins = np.arange(0, 100, 1) # in ms\n",
    "# Create and label the histograms.\n",
    "ax4[0].hist(isi_dark*1000, bins, color='b') # in ms\n",
    "ax4[1].hist(isi_light*1000, bins, color='r') # in ms\n",
    "ax4[0].set_xlabel('Time (ms)')\n",
    "ax4[0].set_ylabel('Counts')\n",
    "ax4[0].set_title('ISIs Dark Condition')\n",
    "ax4[1].set_title('ISIs Light Condition')"
   ]
  },
  {
   "cell_type": "markdown",
   "metadata": {},
   "source": [
    "In the ISI histogram of the dark condition, very few counts occur at small ISI values (near 0 ms) and high ISI values (above 80 ms). Instead, the distribution of counts is broadly peaked in the approximate interval 5–20 ms.\n",
    "\n",
    "What does the ISI distribution reveal about the spiking activity in the dark condition? We could conclude from the ISI distribution that many spikes are separated by time intervals 5–20 ms. So, we might be tempted to imagine near-periodic spiking with a period 5–20 ms:\n",
    "\n",
    "<a id=\"fig:8.6a\"></a>\n",
    "\n",
    "![Cartoon representation of spiking activity.](imgs/8-6a.png \"Near-periodic spiking, with period 5&mdash;20 ms.\")\n",
    "\n",
    "However, the histogram contains additional structure beyond the single broad peak. Indeed, the histogram has a long tail. Therefore, the intervals between spikes are varied. We often see ISIs in the 5–20 ms interval, but we also find much longer ISIs. The structure of the ISI histogram is consistent with bursting activity, which consists of intervals of rapid spiking interspersed with quiescence:\n",
    "\n",
    "<a id=\"fig:8.6b\"></a>\n",
    "\n",
    "![Cartoon representation of spiking activity.](imgs/8-6b.png \"Bursting activity, with both short and long intervals between spikes.\")\n",
    "\n",
    "The intervals of rapid spiking produce many shorter ISIs, and the longer intervals produce (typically fewer) longer ISIs. We may conceptualize a bursting neuron as having two time scales: fast and slow. From the shape of the histogram of the dark condition, we could conclude that the spike train data in the dark condition are more consistent with bursting activity than with periodic, metronome-like spiking activity. We could conclude that this is also the case in the light condition. We could claim that the neuron exhibits bursting activity in both conditions, but clearly there are some difference between the two ISI histograms: consider the impact of the large proportion of small ISIs in the light condition. We'll continue on to examine this further.\n",
    "    \n",
    "\n",
    "\n",
    "</div>"
   ]
  },
  {
   "cell_type": "markdown",
   "metadata": {},
   "source": [
    "<a id=\"BSIs\"></a>\n",
    "### Examining Binned Spike Increments\n",
    "\n",
    "Another common approach to analyzing spiking data is to discretize time into bins of fixed width, and count the number of events that occur in each time bin. This differs from the ISI histogram above, because in this case we will not look at the time between events, but the number of events themselves. The sequence of spike counts across the bins is sometimes called the *increment process* for a spike train. When the time bins are sufficiently small, say, 1 ms for typical spike train data, the resulting increment process is just a sequence of zeros and ones. In this case, the time bins are so small that the probability of more than one spike occurring in each bin is virtually zero. Each tiny time bin then contains a spike (and we assign that bin a value of 1) or does not (and we assign that bin a value of 0). This idea of representing the spike train as a sequence of zeros and ones for small bin increments will be important later when we build statistical models of the spike trains."
   ]
  },
  {
   "cell_type": "markdown",
   "metadata": {},
   "source": [
    "<div class=\"question\">\n",
    "\n",
    "**Q:** How can we visualize the amount of variability in the spike trains for both conditions? \n",
    "    \n",
    "Compute and plot the increment process for the entire spike train for both conditions in time bins of 50 ms for the time interval 0-30s, again using 2 subplots with the color and axes scheme we used above. Appropriately label both subplots. \n",
    "    \n",
    "(*Hints*: Use `np.arange` to set the bins from a start time, stop time, and bin width. Use `np.histogram` to compute the increment process from the spike times and the bins. Use the axes `bar` method on the computed bins and increments to create a bar plot for each axes.)\n",
    "    \n",
    "</div>"
   ]
  },
  {
   "cell_type": "code",
   "execution_count": 14,
   "metadata": {},
   "outputs": [
    {
     "data": {
      "text/plain": [
       "Text(0.5, 1.0, 'Increment Process Light Condition')"
      ]
     },
     "execution_count": 14,
     "metadata": {},
     "output_type": "execute_result"
    },
    {
     "data": {
      "image/png": "[encoded data removed]",
      "text/plain": [
       "<Figure size 864x432 with 2 Axes>"
      ]
     },
     "metadata": {
      "needs_background": "light"
     },
     "output_type": "display_data"
    }
   ],
   "source": [
    "## Compute the increment process for both conditions\n",
    "\n",
    "# Set the bins\n",
    "bin_length = 0.050 # 50 ms\n",
    "bins = np.arange(0, 30, bin_length)\n",
    "\n",
    "# Compute the increments (only return the first output argument, the histogram; \n",
    "# we don't need the second, the bin edges).\n",
    "increment_dark_50, _ = np.histogram(ts_dark, bins)\n",
    "# this is the preferred way to return a single output from a multi-output function call:\n",
    "# see: https://stackoverflow.com/questions/431866/ignore-python-multiple-return-value\n",
    "increment_light_50  = np.histogram(ts_light, bins)[0]\n",
    "\n",
    "# Create a bar plot of the increments.\n",
    "fig5, ax5 = plt.subplots(nrows=1, ncols=2, sharex=True, sharey=True, figsize=(12,6))\n",
    "# Exclude the last element in `bins` when plotting, so the number of elements\n",
    "# matches the number of elements of the increments.\n",
    "ax5[0].bar(bins[:-1], increment_dark_50, color='b')\n",
    "ax5[1].bar(bins[:-1], increment_light_50, color='r')\n",
    "ax5[0].set_xlabel('Time (s)')\n",
    "ax5[0].set_ylabel('Counts')\n",
    "ax5[0].set_title('Increment Process Dark Condition')\n",
    "ax5[1].set_title('Increment Process Light Condition')"
   ]
  },
  {
   "cell_type": "markdown",
   "metadata": {},
   "source": [
    "One question that arises quite often is how variable these binned counts are. To illustrate this variability, let’s consider two scenarios. In the first, consider a neuron that fires perfectly regularly, like a metronome. In this case, we expect the number of spikes in each time bin to be identical. On the other hand, consider the scenario of a neuron that fires in irregular bursts. In this case, we expect much more variability in the number of spikes in each time bin, depending on whether a time bin contained a burst of spikes or a quiet period. To characterize this variability, a standard measure to compute is the sample *Fano factor (FF)*. It’s easy to define the Fano factor: *FF is the sample variance of the increment process divided by the sample mean of the increment process*. This is very similar to the *coefficient of variation (CV)*, which is *the sample standard deviation divided by the sample mean*."
   ]
  },
  {
   "cell_type": "markdown",
   "metadata": {},
   "source": [
    "<div class=\"question\">\n",
    "\n",
    "**Q:** How can we quantify the amount of variability in the spike trains for both conditions? \n",
    "    \n",
    "compute the FF from the increments computed above for both conditions, and appropriately assign the results to the variables `ff_dark_50` and `ff_light_50`, respectively.\n",
    "    \n",
    "(*Hints*: Use the `var` and `mean` methods for ndarrays)\n",
    "    \n",
    "</div>"
   ]
  },
  {
   "cell_type": "code",
   "execution_count": 15,
   "metadata": {},
   "outputs": [
    {
     "name": "stdout",
     "output_type": "stream",
     "text": [
      "ff_dark_50 = 0.72\n",
      "ff_light_50 = 1.78\n"
     ]
    }
   ],
   "source": [
    "## compute the FF for both conditions\n",
    "\n",
    "ff_dark_50 = increment_dark_50.var() / increment_dark_50.mean()\n",
    "ff_light_50 = increment_light_50.var() / increment_light_50.mean()\n",
    "\n",
    "print(f'ff_dark_50 = {ff_dark_50:.2f}')\n",
    "print(f'ff_light_50 = {ff_light_50:.2f}')"
   ]
  },
  {
   "cell_type": "markdown",
   "metadata": {},
   "source": [
    "To interpret this FF, we need to introduce the concept of a Poisson process. A Poisson process is a model for a spiking process for which each spike occurrence is independent of every other spike occurrence. In other words, the probability of a neuron spiking at any instant does not depend on when the neuron fired (or did not fire) previously.\n",
    "\n",
    "The Poisson process is rarely an accurate model for spike train data. Our biological knowledge reveals that the occurrence of a spike *does* depend on the occurrence of previous spikes (e.g. when we take into account the refractory period, and phenomena like bursting). However, the Poisson process has many nice theoretical properties that make it a good model against which to compare the data. For example, for any Poisson process, the number of spikes in any time interval has a Poisson probability distribution for which the theoretical variance and mean are equal (see the [appendix](#appendix) at the end of the chapter). Therefore, the theoretical Fano factor for a Poisson process is exactly equal to 1.\n",
    "\n",
    "When measuring the variability of the increments of a spike train, we typically compare it to the variability of a Poisson process. If we compute a FF well below the value 1 for a particular set of increments, this suggests that the spiking is more regular than a Poisson process for the time scale at which the increments were binned. In this case, spiking activity in the past is influencing the neuron to spike in a more predictable manner in subsequent bins. If we compute a FF well above the value 1, this suggests that the spiking is more variable than a Poisson process for the time scale at which the increments were binned.\n",
    "\n",
    "Based on this and our calculations of the FF for both conditions, we could conclude that the spiking in the dark condition is more regular, and the spiking in the light condition more variable, than a Poisson process."
   ]
  },
  {
   "cell_type": "markdown",
   "metadata": {},
   "source": [
    "#### Does the observed Fano factor differ from 1?\n",
    "\n",
    "The preceding results are somewhat unsatisfying. We claimed that in the dark condition, because the FF was 0.72, spiking is more regular than a Poisson process. What if, instead, we computed a FF of 0.8; is that well enough below 1 for the spiking to be considered more regular than a Poisson process? Is a FF of 0.9 well enough below 1? These questions highlight an important issue when drawing a conclusion from a FF: How far above or below the value of 1 does the computed FF have to be before we are confident that there is really a statistically significant difference in the variability from a Poisson process (i.e. that the computed FF is not coming from a Poisson distribution)? After all, even if we had spiking from a true Poisson process, from one experiment to the next we would expect to find different values for the increments, and values for the sample FF that fluctuate slightly above and below 1. \n",
    "\n",
    "Fortunately, a bit of statistical theory can help us out. It can be shown that the distribution of Fano factors that we might compute from a Poisson process follows a [gamma distribution](https://en.wikipedia.org/wiki/Gamma_distribution) with shape parameter $(N - 1)/2$ and scale parameter\n",
    "$2/(N - 1)$, where $N$ is the number of time bins used in the Fano factor calculation [[Eden & Kramer, 2010](https://doi.org/10.1016/j.jneumeth.2010.04.012)].\n",
    "\n",
    "\n"
   ]
  },
  {
   "cell_type": "markdown",
   "metadata": {},
   "source": [
    "<div class=\"question\">\n",
    "\n",
    "**Q:** How can we visualize a distribution of theoretical Fano factors based on our increments? \n",
    "    \n",
    "Compute and plot the pdf of the gamma distribution with shape parameter $(N - 1)/2$ and scale parameter $2/(N - 1)$ where $N$ is equal to the number of bins we used to compute our increments. Set the x-axis to have 1000 values evenly sampled between 0.5 and 1.5 (this will create a smooth plot for the pdf). Appropriately label the plot.\n",
    "\n",
    "(*Hints*: Use `np.linspace` to create the values for the x-axes, and `stats.gamma.pdf` to create the gamma distribution pdf. `stats.gamma.pdf` takes as inputs the values for the x-axes, the shape parameter, and the scale parameter. Then use the axes `plot` method to plot the pdf for the values of the x-axes.)\n",
    "\n",
    "</div>"
   ]
  },
  {
   "cell_type": "code",
   "execution_count": 16,
   "metadata": {},
   "outputs": [
    {
     "data": {
      "text/plain": [
       "Text(0.5, 1.0, 'PDF')"
      ]
     },
     "execution_count": 16,
     "metadata": {},
     "output_type": "execute_result"
    },
    {
     "data": {
      "image/png": "[encoded data removed]",
      "text/plain": [
       "<Figure size 864x432 with 1 Axes>"
      ]
     },
     "metadata": {
      "needs_background": "light"
     },
     "output_type": "display_data"
    }
   ],
   "source": [
    "## Plot the gamma distribution pdf\n",
    "\n",
    "# Create x-axis values.\n",
    "xax_vals = np.linspace(.5, 1.5, 1000)\n",
    "\n",
    "# Compute the shape and scale parameters, and create the gamma pdf.\n",
    "N = bins.size;\n",
    "shape = (N-1) / 2             \n",
    "scale = 2 / (N-1)\n",
    "y_pdf = stats.gamma.pdf(xax_vals, shape, scale=scale)\n",
    "\n",
    "# Plot the pdf.\n",
    "fig6, ax6 = plt.subplots()\n",
    "ax6.plot(xax_vals, y_pdf)\n",
    "ax6.set_xlabel('Fano Factor')\n",
    "ax6.set_ylabel('Probability Density')\n",
    "ax6.set_title('PDF')\n"
   ]
  },
  {
   "cell_type": "markdown",
   "metadata": {},
   "source": [
    "When $N$ is large, as it is here, the gamma pdf looks like a normal distribution (i.e., like a bell-shaped curve). We can use this distribution to construct an interval where we would expect the Fano factor to lie if the data were generated by a Poisson process. More specifically, if the data were generated by a Poisson process, then we would expect the Fano factor to lie in the 95% confidence interval around the value of 1. "
   ]
  },
  {
   "cell_type": "markdown",
   "metadata": {},
   "source": [
    "<div class=\"question\">\n",
    "\n",
    "**Q:** How can we see if our computed FFs for both conditions differ significantly from our theoretical gamma distribution of FFs? \n",
    "    \n",
    "Compute the 95% confidence interval for our theoretical gamma distribution, and add the lower and upper bounds as red, vertical lines to the pdf plot. For both conditions, compute the probability that the computed FF is in the theoretical gamma distribution. \n",
    "\n",
    "(*Hints*: Use `stats.gamma.ppf` to compute the confidence interval. `stats.gamma.ppf` should take 3 inputs: an array with 2 numbers (the lower and upper bound of the confidence interval), the distribution shape parameter, and the keyword argument `scale` set to the distribution scale parameter. Use the axes `vlines` method to add the lower and upper bounds to the pdf plot. Use `stats.gammma.cdf` to compute the probability that the computed FF for both conditions is in the theoretical gamma distribution (assume a lower-tail one-tail test for the dark condition, and an upper-tail one-tail test for the light condition. `stats.gamma.cdf` should take 3 inputs: the computed FF, the distribution shape parameter, and the keyword argument `scale` set to the distribution scale parameter.)\n",
    "    \n",
    "</div>"
   ]
  },
  {
   "cell_type": "code",
   "execution_count": 17,
   "metadata": {},
   "outputs": [
    {
     "name": "stdout",
     "output_type": "stream",
     "text": [
      "The 95% confidence interval is between 0.890 and 1.116\n",
      "\n",
      "The percentage of values in our theoretical gamma distribution that are less than or equal to our computed FF for the dark condition is 0.00000\n",
      "\n",
      "The percentage of values in our theoretical gamma distribution that are greater than or equal to our computed FF for the light condition is 0.00000\n"
     ]
    },
    {
     "data": {
      "image/png": "[encoded data removed]",
      "text/plain": [
       "<Figure size 864x432 with 1 Axes>"
      ]
     },
     "execution_count": 17,
     "metadata": {},
     "output_type": "execute_result"
    }
   ],
   "source": [
    "## compute 95% confidence intervals for the gamma distribution of FF factors\n",
    "## and add the bounds as vertical lines to the pdf plot. Then compute one-tailed p-values for\n",
    "## the probability that the computed FFs for each condition belong to the gamma distribution.\n",
    "\n",
    "# compute and plot 95% confidence intervals:\n",
    "\n",
    "ci_95 = stats.gamma.ppf([.025, .975], shape, scale=scale)\n",
    "print('The 95% confidence interval is between {:.3f} and {:.3f}'.format(ci_95[0], ci_95[1]))\n",
    "ax6.vlines(ci_95[0], ymin=0, ymax=7, color='r')\n",
    "ax6.vlines(ci_95[1], ymin=0, ymax=7, color='r')\n",
    "\n",
    "# compute probability of finding our computed FF for dark and light conditions within theoretical\n",
    "# gamma distribution:\n",
    "\n",
    "p_ff_dark = stats.gamma.cdf(ff_dark_50, shape, scale=scale) # cdf from lower bound to `ff_dark_50`\n",
    "p_ff_light = 1 - stats.gamma.cdf(ff_light_50, shape, scale=scale) # cdf from`ff_light_50` to upper bound\n",
    "\n",
    "# Print our interpretations of the `p_ff_dark` and `p_ff_light` (rounded to 5 places past decimal).\n",
    "print('\\nThe percentage of values in our theoretical gamma distribution that are ' \\\n",
    "      'less than or equal to our computed FF for the dark condition is ' \\\n",
    "      '{:.5f}'.format(p_ff_dark))\n",
    "      \n",
    "print('\\nThe percentage of values in our theoretical gamma distribution that are ' \\\n",
    "      'greater than or equal to our computed FF for the light condition is ' \\\n",
    "      '{:.5f}'.format(p_ff_light))\n",
    "\n",
    "# Show figure.\n",
    "fig6"
   ]
  },
  {
   "cell_type": "markdown",
   "metadata": {},
   "source": [
    "Visually, we can see that our computed FF values for the dark condition and light condition lie well below and above the lower and upper bounds for the 95% confidence interval, respectively. Our computed p-values confirm this. We can therefore reject the hypothesis that the spike trains in either condition were generated by a Poisson process.\n",
    "\n",
    "Remember, however, that our FF is dependent on the way we compute our increments (specifically, the number of bins we use)."
   ]
  },
  {
   "cell_type": "markdown",
   "metadata": {},
   "source": [
    "<div class=\"question\">\n",
    "\n",
    "**Q.** How can we see if the results for the Fano factor change in each condition with different choices for the bin size of the increment process (e.g., 25 ms, 100 ms, 500 ms)? \n",
    "\n",
    "Create a function, `compute_ff` that takes 4 inputs: `spk_train`, a spike times vector (in s), `t`, two numbers specifying a time range (in s), `binwidth`, a desired binwidth (in s),  and `cl`, a conifdence level (in the interval (0,1) ) for which to return the lower and upper bounds of the related confidence interval. `compute_ff` should return 3 outputs: `ff`, the FF for the spike train for the given binwidth and time interval, `ci`, a two-element vector with the lower and upper bounds of the `cl`% confidence interval for the theoertical gamma distribution created from the binwidth, `p`, the percentage of values in the theoretical gamma distribution that are less than or equal to `ff` (if `ff` < 1), or greater than or equal to `ff` (if `ff` > 1).\n",
    "\n",
    "(*Hints*: Most of the code above in this section can be slightly adjusted to be used in the function body. For coding the function body:\n",
    "\n",
    "- Compute the increment for the spikes in the given time range. \n",
    "- Next, compute the FF from the increment. \n",
    "- Next, create the theoretical gamma distribution from the binwidth. \n",
    "- Next, compute the confidence interval bounds from the confidence level. \n",
    "- Last, compute the p-value.   \n",
    "    \n",
    "</div>"
   ]
  },
  {
   "cell_type": "code",
   "execution_count": 18,
   "metadata": {},
   "outputs": [],
   "source": [
    "def compute_ff(spk_train, t, binwidth, cl=0.95):\n",
    "    \"\"\" \n",
    "    Returns the Fano Factor (FF) for a given spike train and binwidth (both in ms). Also returns \n",
    "    the confidence interval bounds for a given confidence level, a p-value that indicates how \n",
    "    likely it is that the computed Fano Factor would be in a theoretical gamma distribution  \n",
    "    created from the binwidth, and a figure that shows the pdf of the theoretical gamma\n",
    "    distribution and the confidence interval bounds.\n",
    "    \n",
    "    Parameters:\n",
    "    -----------\n",
    "        spk_train (ndarray | list | tuple): a vector of spike train timestamps (in s)\n",
    "        t (ndarray | list | tuple): two numbers specifying a time range (in s)\n",
    "        binwidth (int): a desired binwidth (in s)\n",
    "        cl (numeric): a conifdence level (in the interval (0,1)) for which to return the lower \n",
    "                      and upper bounds of the related confidence interval (default = 0.95)\n",
    "    \n",
    "    Returns:\n",
    "    --------\n",
    "        ff (float): the Fano Factor for `spk_train` and `bin`\n",
    "        ci (ndarray): the confidence interval bounds for `cl`\n",
    "        p (float): the percentage of values in the theoretical gamma distribution that are less\n",
    "                       than or equal to ff (if ff < 1), or greater than or equal to ff (if ff > 1)\n",
    "    \"\"\"\n",
    "       \n",
    "    # Ensure `spk_train` is ndarray, and only get values within `time_interval`.\n",
    "    spk_train = np.asarray(spk_train) # convert to ndarray for `np.where`\n",
    "    spk_train = spk_train[np.where((spk_train>=0) & (spk_train<=30))]\n",
    "    \n",
    "    # Compute increment.\n",
    "    bins = np.arange(t[0], t[1], binwidth)\n",
    "    increment, _ = np.histogram(spk_train, bins)\n",
    "\n",
    "    # Compute FF.\n",
    "    ff = increment.var() / increment.mean()\n",
    "    \n",
    "    # Create gamma distribution.\n",
    "    xax_vals = np.linspace(.5, 1.5, 1000) # x axis values for gamma pdf\n",
    "    N = bins.size;\n",
    "    shape = (N-1) / 2 # shape parameter for gamma distribution based on `bin`    \n",
    "    scale = 2 / (N-1) # scale parameter for gamma distribution based on `bin`\n",
    "    y_pdf = stats.gamma.pdf(xax_vals, shape, scale=scale) # gamma pdf\n",
    "    \n",
    "    # Compute confidence interval.\n",
    "    ci_lower = (1-cl)/2\n",
    "    ci_upper = cl + (1-cl)/2\n",
    "    ci = stats.gamma.ppf([ci_lower, ci_upper], shape, scale=scale)\n",
    "    \n",
    "    # Compute p-value for FF.\n",
    "    if ff <= 1:\n",
    "        p = stats.gamma.cdf(ff, shape, scale=scale)\n",
    "    else:\n",
    "        p = 1 - stats.gamma.cdf(ff, shape, scale=scale)\n",
    "        \n",
    "    return ff, ci, p    "
   ]
  },
  {
   "cell_type": "markdown",
   "metadata": {},
   "source": [
    "<div class=\"question\">\n",
    "\n",
    "**Q:** How can we test and use `compute_ff`? \n",
    "\n",
    "Run `compute_ff` on the spike train for the light condition, with a binwidth of 50 ms, for the time range [0-30s], and use `assert` to test that the returned `ff` is equal to `ff_light_50`, that `ci` is equal to `ci_95`, and that `p` is equal to `p_ff_light`. Plot a figure containing the pdf of the theoretical gamma distribution with red vertical lines indicating the lower and upper bounds of the 95% confidence interval.\n",
    "    \n",
    "(*Hint*: Use `np.all` to ensure both elements in `ci` are equal to both elements in `ci_95`, respectively.)\n",
    "    \n",
    "</div>"
   ]
  },
  {
   "cell_type": "code",
   "execution_count": 19,
   "metadata": {},
   "outputs": [],
   "source": [
    "## Use `compute_ff` on `ts_light` with a binwidth of 50 ms and time range from [0-30s],\n",
    "## create appropriate tests, and create a figu\n",
    "\n",
    "# Run function. \n",
    "ff, ci, p = compute_ff(ts_light, [0,30], 0.05)\n",
    "\n",
    "# Run tests:\n",
    "\n",
    "assert ff == ff_light_50 # for ff\n",
    "assert np.all(ci == ci_95) # for ci\n",
    "assert p == p_ff_light # for p_val"
   ]
  },
  {
   "cell_type": "markdown",
   "metadata": {},
   "source": [
    "<div class=\"question\">\n",
    "\n",
    "**Q:** How can we see how FFs vary across binwidths?\n",
    "\n",
    "Using `compute_ff` in a `for` loop, compute the FFs, CIs, and p-values for both conditions for bin widths 10, 25, 50, 100, 250 and 500 ms for the full time range [0-30s].\n",
    "    \n",
    "(*Hints*: Preallocate `ff`, `ci`, and `p` vectors for both conditions before running the `for` loop. Think carefully about the shape of these vectors (the CI vectors will have a different shape than the FF and p-value vectors).)\n",
    "    \n",
    "</div>"
   ]
  },
  {
   "cell_type": "code",
   "execution_count": 20,
   "metadata": {},
   "outputs": [
    {
     "name": "stdout",
     "output_type": "stream",
     "text": [
      "ffs_dark =  [0.78 0.73 0.72 0.71 0.86 0.84]\n",
      "cis_dark =  [[0.95 1.05]\n",
      " [0.92 1.08]\n",
      " [0.89 1.12]\n",
      " [0.85 1.17]\n",
      " [0.76 1.27]\n",
      " [0.67 1.39]]\n",
      "p_vals_dark =  [0.0000e+00 0.0000e+00 0.0000e+00 4.0000e-05 1.3005e-01 2.0196e-01]\n",
      "ffs_light =  [1.15 1.44 1.78 2.2  2.97 3.23]\n",
      "cis_light =  [[0.95 1.05]\n",
      " [0.92 1.08]\n",
      " [0.89 1.12]\n",
      " [0.85 1.17]\n",
      " [0.76 1.27]\n",
      " [0.67 1.39]]\n",
      "p_vals_light =  [0. 0. 0. 0. 0. 0.]\n"
     ]
    }
   ],
   "source": [
    "## Compute FFs across various binwidths for light and dark conditions.\n",
    "\n",
    "# Set time range and binwidths vector.\n",
    "t = [0,30]\n",
    "binwidths = np.array([0.010, 0.025, 0.050, 0.100, 0.250, 0.500])\n",
    "\n",
    "# Preallocate `compute_ff` outputs as vectors of length `binwidths`.\n",
    "ffs_dark = np.zeros(len(binwidths))\n",
    "cis_dark = np.zeros((len(binwidths),2))\n",
    "ps_dark = np.zeros(len(binwidths))\n",
    "ffs_light = np.zeros(len(binwidths))\n",
    "cis_light = np.zeros((len(binwidths),2))\n",
    "ps_light = np.zeros(len(binwidths))\n",
    "\n",
    "# Compute values using `compute_ff`.\n",
    "for idx in range(0, len(binwidths)):\n",
    "    ffs_light[idx], cis_light[idx], ps_light[idx] = compute_ff(ts_light, t, binwidths[idx])\n",
    "    ffs_dark[idx], cis_dark[idx], ps_dark[idx] = compute_ff(ts_dark, t, binwidths[idx])\n",
    "\n",
    "# Print rounded values.\n",
    "print('ffs_dark = ', ffs_dark.round(decimals=2))\n",
    "print('cis_dark = ', cis_dark.round(decimals=2))\n",
    "print('p_vals_dark = ', ps_dark.round(decimals=5))\n",
    "print('ffs_light = ', ffs_light.round(decimals=2))\n",
    "print('cis_light = ', cis_light.round(decimals=2))\n",
    "print('p_vals_light = ', ps_light.round(decimals=5))"
   ]
  },
  {
   "cell_type": "markdown",
   "metadata": {},
   "source": [
    "Intuitively, our results make sense. As we increase our bin width, we expect the area under the 95% confidence interval for our theoretical gamma distributions to increase, because there is likely to be more variability over larger time widths and because with fewer samples (i.e. bins), our theoretical gamma distribution is less precise. We see that our p-values are virtually 0 for all binwidth sizes looked at for the light condition, but our FFs for the the dark condition for binwidth sizes of 250 and 500 ms lie within the 95% confidence intervals constructed for the gamma distributions based on those binwidth sizes. \n",
    "\n",
    "At binwidths of large timescales then, we cannot say that the spiking in the dark condition is more regular than a poisson process, but we are confident that spiking in the light condition is more variable than a poission process for all the timescales we've looked at."
   ]
  },
  {
   "cell_type": "markdown",
   "metadata": {},
   "source": [
    "<a id=\"ACs\"></a>\n",
    "### Autocorrelations of the Increments"
   ]
  },
  {
   "cell_type": "markdown",
   "metadata": {},
   "source": [
    "Another way to characterize the history dependence structure of a spike train is with the *autocorrelation* function of the increments. A correlation coefficient describes the degree of linear dependence between any two variables. The value of the correlation ranges from -1 to 1. A correlation value of -1 indicates a perfect linear relation between the two variables with a negative slope. A value of 0 indicates no linear relation between the two variables. And a value of 1 indicates a perfect linear relation between the two variables with a positive slope. Any other value indicates that one variable can be predicted using a linear function of the other, but that prediction will be imperfect; the closer the value is to $\\pm$1, the better the prediction will be. The sign of the coefficient indicates the slope of the linear relation. The following figure shows scatterplots for a variety of possible relations between two variables, and the values of the correlation coefficients.\n",
    "\n",
    "![Correlation values for example relations between two variables.](imgs/8-9.png \"Variables are plotted, one against the other, on the x-axis and y-axis. Numbers indicate values of the correlation between the two variables.\")\n",
    "\n",
    "Mathematically, the formula for the sample autocorrelation at a lag $L$ is\n",
    "<a id=\"eq:5\"></a>\n",
    "\n",
    "$$\n",
    "\\rho_{xx}[L] = \\frac{\n",
    "\\sum_{i=1}^{N - L}\n",
    "(x_i - \\overline x)(x_{i+L} - \\overline x)\n",
    "}\n",
    "{\n",
    "\\sum_{i=1}^{N}(x_i - \\overline x)^2\n",
    "}\n",
    "\\tag{5}\n",
    "$$\n",
    "\n",
    "where $x_i$ is the $i^{th}$ data point, and $\\overline x$ is the sample mean of the data over index $i$.\n",
    "\n",
    "This formula is rather complicated, so let's consider a simple case: $L = 0$. \n",
    "\n",
    "\\begin{eqnarray}\n",
    "\\rho_{xx}[0] &=& \n",
    "\\bigg ( \\sum_{i=1}^{N-0} (x_i - \\overline x)(x_{i+0} - \\overline x) \\bigg ) \n",
    "\\bigg / \n",
    "\\bigg ( \\sum_{i=1}^N (x_i - \\overline x)^2 \\bigg ) \n",
    "\\\\\n",
    "&=&\n",
    "\\bigg ( \\sum_{i=1}^{N} (x_i - \\overline x)(x_{i} - \\overline x) \\bigg ) \n",
    "\\bigg / \n",
    "\\bigg ( \\sum_{i=1}^N (x_i - \\overline x)^2 \\bigg ) \n",
    "\\\\\n",
    "&=&\n",
    "\\bigg ( \\sum_{i=1}^N (x_i - \\overline x)^2 \\bigg ) \n",
    "\\bigg / \n",
    "\\bigg ( \\sum_{i=1}^N (x_i - \\overline x)^2 \\bigg ) \n",
    "\\\\\n",
    "&=& 1.\n",
    "\\end{eqnarray}\n",
    "\n",
    "At $L=0$, the autocorrelation is by definition equal to 1. In words, an individual dataset $x$ is perfectly correlated with itself at zero lag.\n",
    "\n",
    "\n",
    "\n",
    "</div>"
   ]
  },
  {
   "cell_type": "markdown",
   "metadata": {},
   "source": [
    "<div class=\"question\">\n",
    "\n",
    "**Q:** How can we look at the history dependency of a spike train?\n",
    "\n",
    "We can compute the autocorrelation (for various lags) of a spike train's increment processes (for increment processes of various binwidths). Create a function, `autocorr_inc`, that does so. `autocorr_inc` should take 3 inputs: `x`, a  time-series data vector, `binwidth`, a desired binwidth (in s) at which to compute the increment process, and `lags`, the number of lags at which to return the autocorrelation for the given binwidth. `autocorr_inc` should return `ac`, the autocorrelation at the specified `lags`.\n",
    "    \n",
    "(*Hints*: For coding the function body:\n",
    "- Compute the increment process. \n",
    "- Next, compute the autocorrelation. First, mean normalize the increment. Then, to compute the autocorrelation, use `np.correlate` with 3 inputs: the first two should be the mean normalized increment (this will correlate it with itself), and the last should be the keyword argument `mode` set to `full`. Note that this will return the autocorrelation at negative and positive lags (which will be identical), so unit normalize the autocorrelation and take only the 2nd half of the vector returned from `np.correlate`. \n",
    "- Last, return the autocorrelation, `ac`, as the elements of this new vector at `lags`.)\n",
    "</div>"
   ]
  },
  {
   "cell_type": "code",
   "execution_count": 21,
   "metadata": {},
   "outputs": [],
   "source": [
    "def autocorr_inc(x, binwidth, lags):\n",
    "    \"\"\" \n",
    "    Returns the autocorrelation at given lags for a given time series' increment process \n",
    "    computed at a given binwidth (in s).\n",
    "    \n",
    "    Parameters:\n",
    "    -----------\n",
    "        x (ndarray | list | tuple): a time-series data vector (in s)\n",
    "        binwidth (int): a desired binwidth (in s)\n",
    "        lags (int): The number of lags for which to return the autocorrelation of the increment\n",
    "                    process of `x` computed at `binwidth`\n",
    "    \n",
    "    Returns:\n",
    "    --------\n",
    "        ac (ndarray): The autocorrelation at lags, `lags`, of the increment process computed \n",
    "                      from `x` at `binwidth` \n",
    "    \"\"\"\n",
    "\n",
    "    # Ensure `x` is ndarray.\n",
    "    x = np.asarray(x)\n",
    "    \n",
    "    # Compute increment.\n",
    "    x_min = np.floor(x.min()).astype(int)\n",
    "    x_max = np.ceil(x.max()).astype(int)\n",
    "    bins = np.arange(x_min, x_max, binwidth)\n",
    "    increment = np.histogram(x, bins)[0] # only return increment, not histogram edges\n",
    "\n",
    "    # Compute autocorrelation.\n",
    "    increment_norm = (increment-increment.mean())\n",
    "    xc = np.correlate(increment_norm, increment_norm, 'full')\n",
    "    xc_norm = xc / xc.max()\n",
    "    \n",
    "    # Reduce `xc` to values at positive lags only (since these will be identical to negative lags)\n",
    "    # and return as `ac` at the specified `lags`\n",
    "    ac = xc_norm[xc_norm.size//2:][:lags]\n",
    "\n",
    "    return ac"
   ]
  },
  {
   "cell_type": "markdown",
   "metadata": {},
   "source": [
    "<div class=\"question\">\n",
    "\n",
    "**Q:** How can we test and use `autocorr_inc`?\n",
    "\n",
    "We know that at 0 lag, the unit normalized autocorrelation of any time series data will equal 1. Run `autocorr_inc` on the spike train for the light condition with a binwidth of 50 ms for `lags` = 2, and use `assert` to test that the returned output for `ac` is a ndarray with two values (at lag 0 and lag 1), with the first element equal to 1.\n",
    "    \n",
    "\n",
    "</div>"
   ]
  },
  {
   "cell_type": "code",
   "execution_count": 22,
   "metadata": {},
   "outputs": [],
   "source": [
    "## Use and test `autocorr_inc`\n",
    "\n",
    "ac = autocorr_inc(ts_light, 0.050, 2)\n",
    "assert ac.size==2 and int(ac[0])==1"
   ]
  },
  {
   "cell_type": "markdown",
   "metadata": {},
   "source": [
    "<div class=\"question\">\n",
    "    \n",
    "**Q:** How can we compare the autocorrelations for increment processes for both conditions? \n",
    "    \n",
    "Using `autocorr_inc` in a comprehension, compute the autocorrelation of increment processes for both conditions computed from binwidths of 10, 50, 100, and 250 ms, for up to 1s of lag in time. Round to 3 places after the decimal.\n",
    "    \n",
    "(*Hints*: Create a ndarray of binwidths, and pull each individual binwidth from this vector in your comprehension for calculating the autocorrelations. To round the returned lists of autocorrelations from the comprehension, convert them to an ndarray and use the `round` method.)\n",
    "    \n",
    "</div>"
   ]
  },
  {
   "cell_type": "code",
   "execution_count": 23,
   "metadata": {},
   "outputs": [
    {
     "name": "stdout",
     "output_type": "stream",
     "text": [
      "The autocorrelations for increment processes computed from binwidths of \n",
      "10, 50, 100, and 250 ms for the light condition are:\n",
      "\n",
      "[ 1.     0.177  0.117  0.101  0.081  0.087  0.044  0.062  0.041  0.027\n",
      "  0.031 -0.001  0.011 -0.012  0.038  0.008  0.027  0.005  0.023  0.025\n",
      "  0.038  0.023  0.029  0.018  0.01   0.003  0.023  0.003  0.023 -0.018\n",
      " -0.004  0.001 -0.023 -0.006  0.017  0.021  0.038  0.034  0.044  0.04\n",
      "  0.003  0.035  0.017  0.005  0.014  0.023  0.039  0.01   0.005  0.008\n",
      " -0.014 -0.006 -0.002  0.023 -0.02  -0.01  -0.005  0.007  0.003  0.016\n",
      "  0.023  0.016 -0.014 -0.012 -0.002 -0.023 -0.013  0.021  0.015  0.016\n",
      " -0.01   0.025 -0.009 -0.007 -0.005  0.011 -0.002  0.001 -0.006  0.023\n",
      " -0.012  0.007  0.004  0.012  0.022  0.02  -0.032  0.009 -0.015  0.028\n",
      " -0.008  0.009  0.003  0.022 -0.005 -0.006  0.008 -0.003  0.003 -0.001] \n",
      "\n",
      "[ 1.     0.241  0.08   0.047  0.098  0.044 -0.023  0.082  0.066  0.064\n",
      " -0.01   0.001  0.032 -0.018  0.012  0.007 -0.002  0.048 -0.002  0.012] \n",
      "\n",
      "[ 1.     0.173  0.124  0.04   0.101  0.014  0.02  -0.017  0.043  0.04 ] \n",
      "\n",
      "[1.    0.152 0.088 0.048] \n",
      "\n",
      "The autocorrelations for increment processes computed from binwidths of \n",
      "10, 50, 100, and 250 ms for the dark condition are:\n",
      "\n",
      "[ 1.    -0.061  0.005  0.007  0.024 -0.004  0.014  0.012  0.043  0.013\n",
      " -0.005  0.031 -0.012  0.027 -0.011 -0.004  0.003 -0.005  0.001  0.008\n",
      " -0.004 -0.005  0.021 -0.008  0.009  0.006 -0.035  0.048 -0.009 -0.014\n",
      " -0.021 -0.026  0.014 -0.012 -0.003 -0.036  0.009 -0.001  0.012  0.004\n",
      " -0.013 -0.025  0.015 -0.     0.014  0.055 -0.006  0.006  0.008  0.014\n",
      " -0.003  0.006  0.028  0.017  0.023  0.    -0.025  0.006  0.007 -0.011\n",
      "  0.002  0.004 -0.015 -0.027  0.017  0.018 -0.002  0.021 -0.016 -0.014\n",
      " -0.004 -0.016 -0.003 -0.015 -0.009 -0.023 -0.003 -0.007 -0.016  0.011\n",
      " -0.029  0.008 -0.014  0.003 -0.015 -0.018 -0.022  0.004  0.001  0.004\n",
      "  0.002 -0.003  0.011  0.028  0.012 -0.014  0.026 -0.009  0.008  0.012] \n",
      "\n",
      "[ 1.     0.039  0.071  0.044  0.004 -0.015 -0.032 -0.076  0.016  0.091\n",
      "  0.02   0.04   0.012 -0.003 -0.037 -0.038 -0.062 -0.064  0.057  0.024] \n",
      "\n",
      "[ 1.     0.151 -0.005 -0.061  0.017  0.046  0.065 -0.076 -0.101  0.079] \n",
      "\n",
      "[ 1.     0.031  0.049 -0.15 ] \n",
      "\n"
     ]
    }
   ],
   "source": [
    "## Compute the autocorrelations for increment processes for both conditions for lags corresponding\n",
    "## to up to 1 s in time\n",
    "\n",
    "# Set binwidth and lag vectors.\n",
    "binwidths = np.array([0.010, 0.050, 0.100, 0.250])\n",
    "lags = np.array([100, 20, 10, 4])\n",
    "\n",
    "# Compute autocorrelations for all values in `binwidths`, and round answers\n",
    "ac_light = [autocorr_inc(ts_light, b, l).round(decimals=3) for b, l in zip(binwidths, lags)]\n",
    "ac_dark = [autocorr_inc(ts_dark, b, l).round(decimals=3) for b, l in zip(binwidths, lags)]\n",
    "\n",
    "# Print interpretations of values.\n",
    "print('The autocorrelations for increment processes computed from binwidths of \\n'\\\n",
    "      '10, 50, 100, and 250 ms for the light condition are:\\n')\n",
    "[print(ac, '\\n') for ac in ac_light]\n",
    "print('The autocorrelations for increment processes computed from binwidths of \\n'\\\n",
    "      '10, 50, 100, and 250 ms for the dark condition are:\\n')\n",
    "_ = [print(ac, '\\n') for ac in ac_dark]"
   ]
  },
  {
   "cell_type": "markdown",
   "metadata": {},
   "source": [
    "What do we find when we examine the numerical values returned by `autocorr_inc`? As expected, the autocorrelation at zero lag is exactly equal to 1 (i.e. the data matches itself at lag 0). Generally, we see higher absolute autocorrelation values in the light condition than in the dark condition. Positive correlation values indicate that when the number of spikes in one bin is higher (or lower) than expected, the number of spikes in the next bin also tends to be higher (or lower) than expected. Conversely, negative correlation values indicate that when the number of spikes in one bin is higher (or lower) than expected, the number of spikes in the next bin will instead be lower (or higher) than expected.\n",
    "\n",
    "But, how do we know whether these autocorrelation values are statistically significant? For large $N$ (in this case, the number of autocorrelation values), we can assume that these values will be normally distributed with mean 0 (because we normalize the values) and with standard error $s/\\sqrt N$. In this way, we can construct 95% confidence intervals around the mean autocorrelation value for our distribution of autocorrelation values, and we can compute a probability that a given autocorrelation comes from the distribution using a one-tailed test."
   ]
  },
  {
   "cell_type": "markdown",
   "metadata": {},
   "source": [
    "<div class=\"question\">\n",
    "\n",
    "**Q:** How can we look at the the fine-scale temporal dependence structure of a spike train, and determine if the autocorrelation at any particular value is significantly greater than normal? \n",
    "    \n",
    "For the light condition, repeat the autocorrelation analysis for an increment process that uses 1 ms bins for 100 lags. Plot the autocorrelation values and the 95% confidence interval bounds as dashed red horizonal lines around the mean. Set the ylim of the axes to be the negative and positive absolute maximum value of the autocorrelation, set x ticks for every 5 ms from 0 to 100 ms, and appropriately label the axes.\n",
    "    \n",
    "(*Hint*: To compute the 95% confidence interval, compute the $+/- 2 * $ standard error.)\n",
    "\n",
    "</div>"
   ]
  },
  {
   "cell_type": "code",
   "execution_count": 24,
   "metadata": {},
   "outputs": [
    {
     "data": {
      "text/plain": [
       "Text(0.5, 0, 'Lag (ms)')"
      ]
     },
     "execution_count": 24,
     "metadata": {},
     "output_type": "execute_result"
    },
    {
     "data": {
      "image/png": "[encoded data removed]",
      "text/plain": [
       "<Figure size 864x432 with 1 Axes>"
      ]
     },
     "metadata": {
      "needs_background": "light"
     },
     "output_type": "display_data"
    }
   ],
   "source": [
    "## Compute the autocorrelation for the increment process at 1 ms bins for the light condition for \n",
    "## 100 lags\n",
    "\n",
    "# Set binwidth and lags.\n",
    "binwidth = 0.001\n",
    "lags = 100\n",
    "\n",
    "# Compute autocorrelation, standard error, and 95% confidence interval.\n",
    "ac_light = autocorr_inc(ts_light, binwidth, lags)\n",
    "N = ac_light.size\n",
    "std_err_light = np.std(ac_light) / np.sqrt(N)\n",
    "ci_light = np.array([-2*std_err_light, 2*std_err_light])\n",
    "\n",
    "# Compute absolute max value of autocorrelation for plotting purposes.\n",
    "abs_max = np.max(np.abs(ac_light[1:]))\n",
    "\n",
    "# Plot autocorelation and confidence interval bounds\n",
    "fig7, ax7 = plt.subplots()\n",
    "ax7.plot(ac_light)\n",
    "ax7.hlines(ci_light[0], 0, ac_light.size, colors='r', linestyles='--')\n",
    "ax7.hlines(ci_light[1], 0, ac_light.size, colors='r', linestyles='--')\n",
    "ax7.set_ylim([-abs_max, abs_max])\n",
    "ax7.set_xticks(np.arange(0,101,5))\n",
    "ax7.set_title('Autocorrelation function for increment process of light condition')\n",
    "ax7.set_ylabel('Normalized autocorrelation')\n",
    "ax7.set_xlabel('Lag (ms)')"
   ]
  },
  {
   "cell_type": "markdown",
   "metadata": {},
   "source": [
    "One notable characteristic is the negative correlation structure at ~ 2 ms. This most likely reflects the refractory period of the neuron: if a spike occurred in the previous 2 ms, one is less likely to occur in the next few milliseconds. The significant positive correlation from ~ 4-12 ms may reflect bursting phenomena displayed by this neuron. Beyond this point, the values of the autocorrelation mostly remain between the two significance bounds.\n",
    "\n",
    "*Alert!* The confidence intervals here are used for exploratory purposes. We are not performing a rigorous statistical test for significance of the autocorrelation at every lag. To perform a rigorous statistical test, we should ideally have many more samples (i.e. many more recorded spike trains under both conditions). Additionally, we would have to correct for the *multiple comparisons problem*. Briefly, if we perform many independent tests, and each has a 5% chance of reaching significance by chance, then the probability that any of these tests reaches significance by chance can be very large. If we wanted to perform many tests, we would need to control for multiple comparisons by adjusting the significance level so that the probability of any test being significant by chance is small. In the plot above, the significance lines are not corrected for multiple comparisons. Therefore, we accept that some of the correlation values that exceed these bounds may occur by chance. However, it is still very unlikely that the significant correlations we observed from  4 to 12 ms are occurring purely by chance."
   ]
  },
  {
   "cell_type": "markdown",
   "metadata": {},
   "source": [
    "<div class=\"question\">\n",
    "\n",
    "**Q:** How can we control for multiple comparisons in our above exploratory analysis in order to perform a more confirmatory analysis and declare the autocorrelation values at certain lags truly significant? (Note that this is a toy example, because we only have one sample in each conidition, and ideally we'd want many more before performing this type of hypothesis testing/model comparison).\n",
    "    \n",
    "We can use *family-wise error rate* (FWER) and *false discovery rate* (FDR) corrections to adjust the $\\alpha$ significance levels for each lag value (i.e. for each comparison) in order to reduce the probability of having a false positive by chance. Use the Holm-Bonferonni FWER correction and the Benjamini-Hochberg FDR correction to see if the autocorrelation value at each lag is significant. Use $\\alpha = 0.05$\n",
    "\n",
    "(*Hint*: First compute the uncorrected p-values for each ac value using `scipy.stats.norm.cdf`, then correct for multiple comparisons using `statsmodels.stats.multitest.multipletests`)\n",
    "    \n",
    "</div>"
   ]
  },
  {
   "cell_type": "code",
   "execution_count": 25,
   "metadata": {},
   "outputs": [
    {
     "name": "stdout",
     "output_type": "stream",
     "text": [
      "The ac values at the following lags were deemed significant for the H-B FWER correction: [0 3 5 8]\n",
      "The ac values at the following lags were deemed significant for the B-H FDR correction: [0 3 4 5 6 7 8 9]\n"
     ]
    }
   ],
   "source": [
    "## Run significance testing on multiple comparison corrected p-values\n",
    "## for the autocorrelation values of the increment process of the light\n",
    "## condition from 1:100 ms with bins of 1 ms.\n",
    "\n",
    "# compute p-values using 2-sided t-test for each ac value\n",
    "m = len(ac_light)  # number of comparisons\n",
    "p = np.zeros((m,))\n",
    "for i, ac in enumerate(ac_light):\n",
    "    p[i] = 1 - stats.norm.cdf(ac, loc=0, scale=std_err_light)\n",
    "    \n",
    "# test for significance against holm-bonferonni FWER correction\n",
    "hb_reject, hb_p_corrected = multipletests(p, alpha=0.05, method='holm')[0:2]\n",
    "\n",
    "# test for significance against benjamini-hochberg FDR correction\n",
    "bh_reject, bh_p_corrected = multipletests(p, alpha=0.05, method='fdr_bh')[0:2]\n",
    "\n",
    "# find lag values for which we reject the null\n",
    "hb_reject_lags = np.where(hb_reject)[0]\n",
    "bh_reject_lags = np.where(bh_reject)[0]\n",
    "print(f'The ac values at the following lags were deemed significant for the '\n",
    "      f'H-B FWER correction: {hb_reject_lags}')\n",
    "print(f'The ac values at the following lags were deemed significant for the '\n",
    "      f'B-H FDR correction: {bh_reject_lags}')"
   ]
  },
  {
   "cell_type": "markdown",
   "metadata": {},
   "source": [
    "After correcting for multiple comparisons, we see that with the stricter, less powerful H-B FWER correction, the ac of the increment process for the light condition at lags of 3, 5, and 8 ms is significantly greater than normal, meaning we are more likely to see spikes at these time periods after an initial spike than at any other time period after an initial spike.\n",
    "\n",
    "For the less strict, more powerful B-H FDR correction, the ac of the increment process for the light condition at lags of 3-9 ms is significantly greater than normal."
   ]
  },
  {
   "cell_type": "markdown",
   "metadata": {},
   "source": [
    "<div class=\"question\">\n",
    "\n",
    "**Q:** We just saw how the autocorrelation of the increment process can reveal certain phenomena (e.g. a refractory period and bursting) of a single spike train, but how can we compare temporal dependency between spike trains? \n",
    "\n",
    "Compute the difference between the light and dark condition autocorrelation functions at every lag for 100 lags from the increment processes computed from a 1 ms binwidth. If we assume that the firing in each condition is independent, the significance bounds for this difference can be computed by taking the square root of the combined variance of the autocorrelation from each condition (the two sample standard error). As above, plot the autocorrelation values and the 95% confidence interval bounds as dashed red horizonal lines around the mean. Set the ylim of the axes to be the negative and positive absolute maximum value of the autocorrelation, set x ticks for every 5 ms from 0 to 100 ms, and appropriately label the axes.\n",
    "\n",
    "(*Hints*: First compute the autocorrelation function (and its standard error) for the dark condition for 100 lags from the increment process computed from a 1 ms binwidth. Then compute the diff autocorrelation and its standard error. Then create the figure.)\n",
    "    \n",
    "</div>"
   ]
  },
  {
   "cell_type": "code",
   "execution_count": 26,
   "metadata": {},
   "outputs": [
    {
     "data": {
      "text/plain": [
       "Text(0.5, 0, 'Lag')"
      ]
     },
     "execution_count": 26,
     "metadata": {},
     "output_type": "execute_result"
    },
    {
     "data": {
      "image/png": "[encoded data removed]",
      "text/plain": [
       "<Figure size 864x432 with 1 Axes>"
      ]
     },
     "metadata": {
      "needs_background": "light"
     },
     "output_type": "display_data"
    }
   ],
   "source": [
    "## Compute the difference between the light and dark condition \n",
    "## autocorrelation functions (i.e. the increment processes computed at a\n",
    "## 1 ms binwidth) at every lag for 100 lags, and plot this difference \n",
    "## along with 95% c.i. bars\n",
    "\n",
    "# compute `ac_dark`\n",
    "binwidth = 0.001\n",
    "lags = 100\n",
    "ac_dark = autocorr_inc(ts_dark, binwidth, lags)\n",
    "N = ac_dark.size\n",
    "std_err_dark = np.std(ac_dark) / np.sqrt(N)\n",
    "\n",
    "# compute difference between `ac_light` and `ac_dark`\n",
    "ac_diff = ac_light - ac_dark\n",
    "std_err_diff = np.sqrt(std_err_light**2 + std_err_dark**2)\n",
    "\n",
    "ci_diff = np.array([-2*std_err_diff, 2*std_err_diff])\n",
    "abs_max_diff = np.max(np.abs(ac_diff[1:]))\n",
    "fig8, ax8 = plt.subplots()\n",
    "ax8.plot(ac_diff)\n",
    "ax8.hlines(ci_diff[0], 0, ac_diff.size, colors='r', linestyles='--')\n",
    "ax8.hlines(ci_diff[1], 0, ac_diff.size, colors='r', linestyles='--')\n",
    "ax8.set_ylim([-abs_max, abs_max])\n",
    "ax8.set_xticks(np.arange(0,100,5))\n",
    "ax8.set_title('Diff Autocorrelation Function for Increment Processes '\n",
    "              'Between Light-Dark Conditions')\n",
    "ax8.set_ylabel('Normalized Autocorrelation')\n",
    "ax8.set_xlabel('Lag')"
   ]
  },
  {
   "cell_type": "markdown",
   "metadata": {},
   "source": [
    "The results suggest significant differences in the autocorrelation between the two conditions at time lags of approximately 3–10 ms. These are roughly the same time lags we identified with bursting activity in the light condition. This suggests that the neuron fires with more intermediate ISIs in the bursting range in the light condition."
   ]
  },
  {
   "cell_type": "markdown",
   "metadata": {},
   "source": [
    "<div class=\"question\">\n",
    "\n",
    "**Q**: How can we control for multiple comparisons in our above exploratory analysis in order to perform a more confirmatory analysis and declare the diff autocorrelation values at certain lags truly significant? \n",
    "    \n",
    "As done above for the light condition, similarly test this diff autocorrelation for significant deviations from normal (at $\\alpha = 0.05$) by  correcting for multiple comparisons using H-B FWER and B-H FDR.\n",
    "\n",
    "</div>"
   ]
  },
  {
   "cell_type": "code",
   "execution_count": 27,
   "metadata": {},
   "outputs": [
    {
     "name": "stdout",
     "output_type": "stream",
     "text": [
      "The ac values at the following lags were deemed significant for the H-B FWER correction: [2 3 4 5]\n",
      "The ac values at the following lags were deemed significant for the B-H FDR correction: [2 3 4 5 6 7]\n"
     ]
    }
   ],
   "source": [
    "## Run significance testing on multiple comparison corrected p-values\n",
    "## for the diff autocorrelation values from 1:100 ms with bins of 1 ms.\n",
    "\n",
    "# compute p-values using 2-sided t-test for each ac value\n",
    "m = len(ac_diff)  # number of comparisons\n",
    "p = np.zeros((m,))\n",
    "for i, ac in enumerate(ac_diff):\n",
    "    p[i] = 1 - stats.norm.cdf(ac, loc=0, scale=std_err_diff)\n",
    "    \n",
    "# test for significance against holm-bonferonni FWER correction\n",
    "hb_reject, hb_p_corrected = multipletests(p, alpha=0.05, method='holm')[0:2]\n",
    "\n",
    "# test for significance against benjamini-hochberg FDR correction\n",
    "bh_reject, bh_p_corrected = multipletests(p, alpha=0.05, method='fdr_bh')[0:2]\n",
    "\n",
    "# find lag values for which we reject the null\n",
    "hb_reject_lags = np.where(hb_reject)[0]\n",
    "bh_reject_lags = np.where(bh_reject)[0]\n",
    "print(f'The ac values at the following lags were deemed significant for the '\n",
    "      f'H-B FWER correction: {hb_reject_lags}')\n",
    "print(f'The ac values at the following lags were deemed significant for the '\n",
    "      f'B-H FDR correction: {bh_reject_lags}')"
   ]
  },
  {
   "cell_type": "markdown",
   "metadata": {},
   "source": [
    "After correcting for multiple comparisons, we see that with the stricter, less powerful H-B FWER correction, the diff ac at lags of 2-5 ms is significantly greater than normal, meaning we are more likely to see spikes at these time periods for the light condition than the dark condition.\n",
    "\n",
    "For the less strict, more powerful B-H FDR correction, the diff at lags of 2-7 ms is significantly greater than normal."
   ]
  },
  {
   "cell_type": "markdown",
   "metadata": {},
   "source": [
    "<div class=\"question\">\n",
    "\n",
    "**Q**: Additionally, suppose we recorded a spike train for a third condition in medium light, `ts_medium`: how could we compare the temporal dependency between all three spike trains?\n",
    "    \n",
    "Create the `ts_medium` variable as an array with 800 random values between 0-30 s. Run an ANOVA test at $\\alpha = 0.05$ (and if significant, compute the pairwise t-tests between each combination of groups, while correcting for multiple comparisons) on the autocorrelation values for the increment processes (computed at a binwidth of 1 ms) of the spike trains in all three conditions. Only use the autocorrelation values between 2-10 ms, since we've already seen that this area is where there is most likely to be differences between the conditions due to bursting.\n",
    "\n",
    "*Hints*: Use `np.random.uniform` to create `ts_medium`. Use `...` to run the ANOVA, and `...` to compute the t-tests if the ANOVA yields a significant result.\n",
    "</div>"
   ]
  },
  {
   "cell_type": "code",
   "execution_count": 29,
   "metadata": {},
   "outputs": [],
   "source": [
    "## Compute a three-group ANOVA between the autocorrelations of the\n",
    "## increment processes (calculated for 100 lags at binwidth = 1 ms) for\n",
    "## the three different conditions, and if the result is significant \n",
    "## (at $/alpha = 0.05$) then compute the LSD.\n",
    "\n",
    "# create the `ts_medium` variable and its ac\n",
    "ts_medium = np.random.uniform(low=0, high=30, size=800)\n",
    "binwidth = 0.001\n",
    "lags = 100\n",
    "ac_medium = autocorr_inc(ts_medium, binwidth, lags)\n",
    "\n",
    "# compute the ANOVA (only use lags from)\n",
    "\n",
    "# compute the LSD\n"
   ]
  },
  {
   "cell_type": "markdown",
   "metadata": {},
   "source": [
    "*Alert!* After running the ANOVA test, we could have used Fisher's LSD to do the pairwise comparison across groups instead of the t-test, but beware that when using Fisher's LSD post-ANOVA you cannot correct for multiple comparisons, and Fisher's LSD restricts FWER to alpha only in the case of a <= three group comparison. "
   ]
  },
  {
   "cell_type": "markdown",
   "metadata": {},
   "source": [
    "We have now looked at different ways to perform hypothesis testing on our data in order to determine 1) if the ac value at any particular lag within a condition significantly deviates from normal, and 2) if the ac values at particular lags between conditions is significantly different. However, in the above examples, we only had one sample from each condition, which makes our analysis very weak. \n",
    "\n",
    "In practice, we should a priori determine at what significance value, power, and effect size we would consider a rejection of the null hypothesis to be meaningful, and use this to determine a minimum sample size for our study. This is called running *a priori power analysis*, and the equation for this is given below:\n",
    "\n",
    "..."
   ]
  },
  {
   "cell_type": "markdown",
   "metadata": {},
   "source": [
    "<div class=\"question\">\n",
    "\n",
    "**Q**: Suppose we would consider a rejection of the null hypothesis\n",
    "meaningful at a significance level of $\\alpha = 0.01$, power of \n",
    "$\\beta = 0.99$, and effect size of $ES$ = 0.5. What should be the minimum number of samples, $n$, for each of our conditions?\n",
    "    \n",
    "\n",
    "\n",
    "\n",
    "</div>"
   ]
  },
  {
   "cell_type": "code",
   "execution_count": null,
   "metadata": {},
   "outputs": [],
   "source": []
  },
  {
   "cell_type": "markdown",
   "metadata": {},
   "source": [
    "<a id=\"ACsOfISIs\"></a>\n",
    "### Autocorrelations of the ISIs\n",
    "\n",
    "The autocorrelation of the increments indicates the amount of time for which there are dependencies in the spiking data. In the light condition, we found large correlation values at certain time values. This could be a consequence of the influence of patterns of many spikes with shorter ISIs or of single spikes with longer ISIs. We can distinguish between these possibilities by looking at the autocorrelation of the sequence of ISIs. In this case, the lag represents the number of spikes in the past rather than the amount of time in the past. If the dependence is only due to the last spike, we expect the ISIs to be uncorrelated at any nonzero lag. This would necessarily be true for data from a Poisson process. If we see correlation between ISIs, this suggests that the data do not come from a Poisson process and that past spiking has an influence over future spikes."
   ]
  },
  {
   "cell_type": "markdown",
   "metadata": {},
   "source": [
    "<div class=\"question\">\n",
    "\n",
    "**Q:** How can we continue to look at the history dependence of a spike train using autocorrelation? Similarly to how we computed the autocorrelation for increment processes, compute the autocorrelation of the ISIs for the light condition for 100 lags (i.e. for up to 100 spikes). Add bounds for the 95% confidence interval of this autocorrelation. To compare temporal dependency between spike trains, compute the difference between the light and dark condition autocorrelation functions of the ISIs with 95% confidence interval bounds, and come up with a reasonable description that fits the data visualization.\n",
    "    \n",
    "**Note*: We've over-engineered our original autocorrelation function, `autocorr_inc`: this function actually performs two tasks: calculating the increment process, and then calculating the autocorrelation. For our current case, we don't want to compute an increment process first; our original function should have been separated into two functions to adhere to the \"one task per function\" policy. So, let's create a new function, `autocorr`, that *only* creates the autocorrelation of a timeseries vector from a given timeseries vector and a number of lags.\n",
    "    \n",
    "</div>"
   ]
  },
  {
   "cell_type": "code",
   "execution_count": null,
   "metadata": {},
   "outputs": [],
   "source": [
    "def autocorr(x, lags):\n",
    "    \"\"\" \n",
    "    Returns the autocorrelation at given lags for a given time series computed at a given \n",
    "    binwidth (in s).\n",
    "    \n",
    "    Parameters:\n",
    "    -----------\n",
    "        x (ndarray | list | tuple): a time-series data vector (in s)\n",
    "        lags (int): The number of lags for which to return the autocorrelation of `x`\n",
    "    \n",
    "    Returns:\n",
    "    --------\n",
    "        ac (ndarray): The autocorrelation at of `x` at `lags` \n",
    "    \"\"\"\n",
    "\n",
    "    # Ensure `x` is ndarray.\n",
    "    x = np.asarray(x)\n",
    "\n",
    "    # Compute autocorrelation.\n",
    "    x_norm = (x-x.mean())\n",
    "    xc = np.correlate(x_norm, x_norm, 'full')\n",
    "    xc_norm = xc / xc.max()\n",
    "    \n",
    "    # Reduce `xc` to values at positive lags only (since these will be identical to negative lags)\n",
    "    # and return as `ac` at the specified `lags`\n",
    "    ac = xc_norm[xc_norm.size//2:][:lags+1]\n",
    "\n",
    "    return ac"
   ]
  },
  {
   "cell_type": "code",
   "execution_count": null,
   "metadata": {},
   "outputs": [],
   "source": [
    "# Use and test `autocorr` function here."
   ]
  },
  {
   "cell_type": "code",
   "execution_count": null,
   "metadata": {},
   "outputs": [],
   "source": [
    "# Compute and visualize autocorrelation of the ISIs for the light condition here."
   ]
  },
  {
   "cell_type": "code",
   "execution_count": null,
   "metadata": {},
   "outputs": [],
   "source": [
    "# Compute and visualize the diff autocorrelation for the ISIs of the light-dark condition here."
   ]
  },
  {
   "cell_type": "markdown",
   "metadata": {},
   "source": [
    "If the autocorrelation function has high values at certain lags, this could suggest that data come from a renewal process, a spiking process with independent ISIs for which the probability of a spike at any time only depends on the time of the most recent spike."
   ]
  },
  {
   "cell_type": "markdown",
   "metadata": {},
   "source": [
    "[Back to top](#top)"
   ]
  },
  {
   "cell_type": "markdown",
   "metadata": {},
   "source": [
    "<a id=\"summary\"></a>\n",
    "## Summary\n",
    "In this chapter, we considered the spiking activity recorded in two conditions. We began with visualizations of the spiking data, and construction and visualization of the increment process (i.e., binned spike counts). We then assessed the variability in the increments through computation of the Fano factor, and became confident that spiking in the light condition displayed more variability than expected for a Poisson process. We also assessed the autocorrelation of the increment processes and observed the impact of refractoriness and bursting activity. In addition, we created and visualized the ISIs for each condition. Inspection of the ISI histograms suggested bursting activity in both conditions, and more small ISIs in the light condition. Analysis of the ISI autocorrelations revealed no compelling evidence for dependence and supported the hypothesis of a renewal process."
   ]
  },
  {
   "cell_type": "markdown",
   "metadata": {},
   "source": [
    "[Back to Top](#top)\n",
    "<a id=\"appendix\"></a>\n",
    "## Appendix: Spike Count Mean and Variance for a Poisson Process\n",
    "\n",
    "In this appendix, we compute the theoretical mean $\\mu$ and the theoretical variance of the spike count $\\sigma^2$ for a Poisson process. Let’s compute $\\mu$ using a general formula that makes use of the probability $P(k)$ of observing $k$ spikes,\n",
    "<a id=\"eq:15\"></a>\n",
    "\n",
    "$$\n",
    "\\mu = \\sum_{k=1}^\\infty k P(k).\n",
    "$$\n",
    "\n",
    "Replacing $P(k)$ with the expression for a Poisson distribution \n",
    "(<a href=\"#eq:6\" class=\"thumb\">eq.<span><img src=\"imgs/eq6.png\"></span></a>)\n",
    ", we find\n",
    "\n",
    "$$\n",
    "\\begin{eqnarray}\n",
    "\\mu &=& \\sum_{k=0}^\\infty k\\left(\\frac{\\lambda^k e^{-k}}{k!}\\right) \\\\\n",
    "&=& e^{-\\lambda}\\sum_{k=0}^\\infty k\\frac{\\lambda^k}{k!}.\n",
    "\\end{eqnarray}\n",
    "$$\n",
    "\n",
    "To make progress, let's write out the terms in the summation,\n",
    "<a id=\"eq:16\"></a>\n",
    "\n",
    "$$\n",
    "\\begin{eqnarray}\n",
    "\\mu &=& e^{-\\lambda}\n",
    "\\left( \n",
    "0 + \n",
    "\\frac{\\lambda^1}{1!} + \n",
    "2\\frac{\\lambda^2}{2!} + \n",
    "3\\frac{\\lambda^3}{3!} + \n",
    "4\\frac{\\lambda^4}{4!} + \n",
    "\\cdots \n",
    "\\right) \\\\\n",
    "&=& e^{-\\lambda}\\lambda\n",
    "\\left(\n",
    "1 + \n",
    "\\frac{\\lambda^2}{2!} + \n",
    "\\frac{\\lambda^3}{3!} + \n",
    "\\cdots \n",
    "\\right) \\\\\n",
    "&=& e^{-\\lambda}\\lambda(e^\\lambda) \\\\\n",
    "&=& \\lambda,\n",
    "\\end{eqnarray}\n",
    "$$\n",
    "\n",
    "where we have used the fact that $e^x = 1 + \\frac{x^2}{2!} + \\frac{x^3}{3!} + \\frac{x^4}{4!} + \\cdots$. Notice that the mean spike count equals the rate parameter of the Poisson process.\n",
    "\n",
    "To find the spike count variance for a Poisson process, we follow a similar procedure. In general, we compute the variance $\\sigma^2$ of the spike count $k$ with probability distribution $P(k)$ as \n",
    "<a id=\"eq:17\"></a>\n",
    "\n",
    "$$\n",
    "\\sigma^2 = \\sum_{k=0}^\\infty k^2 P(k) - \\left(\\sum_{k=0}^\\infty k P(k)\\right) ^2.\n",
    "$$\n",
    "\n",
    "As in our computation of the mean spike count, we replace $P(k)$ with (<a href=#eq:6 class=thumb>eq.<span><img src=imgs/eq6.png></span></a>)\n",
    ", the expression for a Poisson process. Notice that the second term is the square of the expression (<a href=#eq:15 class=thumb>eq.<span><img src=imgs/eq15.png></span></a>)\n",
    ", and for a Poisson process we found $\\mu = \\lambda$. Therefore, let’s replace the second term in (<a href=#eq:17 class=thumb>eq.<span><img src=imgs/eq17.png></span></a>)\n",
    " with $\\sigma^2$ and substitute for $P(k)$ in the first term of (<a href=#eq:17 class=thumb>eq.<span><img src=imgs/eq17.png></span></a>) to find\n",
    " \n",
    "$$\n",
    "\\begin{eqnarray}\n",
    "\\sigma^2 &=&\n",
    "\\sum_{k=0}^\\infty\n",
    "k^2\n",
    "\\left(\n",
    "\\frac{\\lambda^k e^{-\\lambda}}{k!}\n",
    "\\right)\n",
    "- \\lambda^2\n",
    "\\\\\n",
    "&=&\n",
    "e^{-\\lambda}\n",
    "\\sum_{k=0}^\\infty\n",
    "k^2\n",
    "\\frac{\\lambda^k}{k!} \n",
    "- \\lambda^2.\n",
    "\\end{eqnarray}\n",
    "$$\n",
    "\n",
    "To make progress, we follow the same strategy and write out the terms in the summation,\n",
    "\n",
    "$$\n",
    "\\begin{eqnarray}\n",
    "\\sigma^2\n",
    "&=&\n",
    "e^{-\\lambda}\n",
    "\\left(\n",
    "0 + \n",
    "\\lambda +\n",
    "2^2\\frac{\\lambda^2}{2!} + \n",
    "3^2\\frac{\\lambda^3}{3!} + \n",
    "4^2\\frac{\\lambda^4}{4!} + \n",
    "\\cdots\n",
    "\\right) - \n",
    "\\lambda^2\n",
    "\\\\\n",
    "&=&\n",
    "\\lambda e ^{-\\lambda}\n",
    "\\left(\n",
    "1 + \n",
    "2\\lambda + \n",
    "\\frac{3}{2}\\lambda ^2 + \n",
    "\\frac{4}{6}\\lambda ^2 + \n",
    "\\cdots\n",
    "\\right) - \n",
    "\\lambda^2.\n",
    "\\end{eqnarray}\n",
    "$$\n",
    "\n",
    "Now, we divide this sum of terms into two pieces, a \"nice term\" (in the first brackets) and \"leftovers\" (in the second brackets):\n",
    "\n",
    "$$\n",
    "\\sigma^2 = \\lambda e^{-\\lambda}\n",
    "\\left(\n",
    "\\left[\n",
    "1 + \n",
    "\\lambda + \n",
    "\\frac{\\lambda^2}{2!} + \n",
    "\\frac{\\lambda^3}{3!} + \n",
    "\\cdots\n",
    "\\right] + \n",
    "\\left[\n",
    "\\lambda + \n",
    "\\frac{2\\lambda^2}{2!} + \n",
    "\\frac{3\\lambda^3}{3!} + \n",
    "\\cdots\n",
    "\\right] \n",
    "\\right) - \n",
    "\\lambda^2.\n",
    "$$\n",
    "\n",
    "We can simplify by recognizing that \n",
    "$\\left[\n",
    "1 + \n",
    "\\lambda + \n",
    "\\frac{\\lambda^2}{2!} + \n",
    "\\frac{\\lambda^3}{3!} + \n",
    "\\cdots\n",
    "\\right]\n",
    "=\n",
    "e^\\lambda$.\n",
    "Then\n",
    "<a id=\"eq:18\"></a>\n",
    "\n",
    "$$\n",
    "\\begin{eqnarray}\n",
    "\\sigma^2\n",
    "&=&\n",
    "\\lambda e^{-\\lambda}\n",
    "\\left(\n",
    "e^\\lambda + \n",
    "\\lambda\n",
    "\\left[\n",
    "1 + \n",
    "\\lambda + \n",
    "\\frac{\\lambda^1}{1!} + \n",
    "\\frac{\\lambda^2}{2!} + \n",
    "\\cdots\n",
    "\\right] \n",
    "\\right)-\n",
    "\\lambda^2 \\\\\n",
    "&=&\n",
    "\\lambda e^{-\\lambda}\n",
    "\\left(\n",
    "e^\\lambda + \\lambda e^\\lambda\n",
    "\\right)\n",
    "-\\lambda^2 \\\\\n",
    "&=&\n",
    "\\lambda + \\lambda^2 - \\lambda^2 \\\\\n",
    "&=&\n",
    "\\lambda,\n",
    "\\end{eqnarray}\n",
    "$$\n",
    "\n",
    "where again we've used the definition of $e^\\lambda$. We conclude that the spike count variance for a Poisson precess equals the firing rate $\\lambda$.\n",
    "\n",
    "Combining these results for the mean spike count $\\mu$ \n",
    "(<a href=#eq:16 class=thumb>eq.<span><img src=imgs/eq16.png></span></a>)\n",
    "and the spike count variance\n",
    "(<a href=#eq:18 class=thumb>eq.<span><img src=imgs/eq18.png></span></a>),\n",
    "we conclude that for a Poisson process,\n",
    "\n",
    "$$\\mu = \\sigma^2 = \\lambda,$$\n",
    "\n",
    "and therefore for a Poisson process, the Fano factor $\\sigma^2/\\mu=1$.\n",
    "\n",
    "[Back to top](#top)"
   ]
  },
  {
   "cell_type": "code",
   "execution_count": null,
   "metadata": {},
   "outputs": [],
   "source": [
    "from IPython.core.display import HTML\n",
    "HTML('../../assets/custom/custom.css')\n",
    "# NO CODE"
   ]
  }
 ],
 "metadata": {
  "kernelspec": {
   "display_name": "Python 3",
   "language": "python",
   "name": "python3"
  },
  "language_info": {
   "codemirror_mode": {
    "name": "ipython",
    "version": 3
   },
   "file_extension": ".py",
   "mimetype": "text/x-python",
   "name": "python",
   "nbconvert_exporter": "python",
   "pygments_lexer": "ipython3",
   "version": "3.7.3"
  }
 },
 "nbformat": 4,
 "nbformat_minor": 4
}
